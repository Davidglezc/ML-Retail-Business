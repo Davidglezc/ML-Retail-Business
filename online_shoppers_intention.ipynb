{
 "cells": [
  {
   "cell_type": "code",
   "execution_count": 2,
   "metadata": {},
   "outputs": [],
   "source": [
    "import pandas as pd\n",
    "pd.options.display.max_columns = 100\n",
    "import numpy as np\n",
    "from sklearn.neural_network import MLPClassifier\n",
    "from sklearn.preprocessing import StandardScaler\n",
    "from sklearn.linear_model import LogisticRegression\n",
    "from sklearn.model_selection import train_test_split, GridSearchCV\n",
    "import matplotlib.pyplot as plt\n",
    "import seaborn as sns\n",
    "import sklearn.metrics as metrics\n",
    "import warnings\n",
    "from sklearn.preprocessing import PowerTransformer, MinMaxScaler\n",
    "from sklearn.ensemble import RandomForestClassifier\n",
    "from sklearn.metrics import classification_report\n",
    "warnings.filterwarnings('ignore')"
   ]
  },
  {
   "cell_type": "code",
   "execution_count": 3,
   "metadata": {},
   "outputs": [],
   "source": [
    "XY = pd.read_csv('online_shoppers_intention.csv')"
   ]
  },
  {
   "cell_type": "code",
   "execution_count": 4,
   "metadata": {},
   "outputs": [
    {
     "name": "stdout",
     "output_type": "stream",
     "text": [
      "- El número de filas en el dataset es: 12330\n",
      "- El número de columnas en el dataset es: 18\n",
      "- Los nombres de las variables son: ['Administrative', 'Administrative_Duration', 'Informational', 'Informational_Duration', 'ProductRelated', 'ProductRelated_Duration', 'BounceRates', 'ExitRates', 'PageValues', 'SpecialDay', 'Month', 'OperatingSystems', 'Browser', 'Region', 'TrafficType', 'VisitorType', 'Weekend', 'Revenue']\n"
     ]
    },
    {
     "data": {
      "text/html": [
       "<div>\n",
       "<style scoped>\n",
       "    .dataframe tbody tr th:only-of-type {\n",
       "        vertical-align: middle;\n",
       "    }\n",
       "\n",
       "    .dataframe tbody tr th {\n",
       "        vertical-align: top;\n",
       "    }\n",
       "\n",
       "    .dataframe thead th {\n",
       "        text-align: right;\n",
       "    }\n",
       "</style>\n",
       "<table border=\"1\" class=\"dataframe\">\n",
       "  <thead>\n",
       "    <tr style=\"text-align: right;\">\n",
       "      <th></th>\n",
       "      <th>Administrative</th>\n",
       "      <th>Administrative_Duration</th>\n",
       "      <th>Informational</th>\n",
       "      <th>Informational_Duration</th>\n",
       "      <th>ProductRelated</th>\n",
       "      <th>ProductRelated_Duration</th>\n",
       "      <th>BounceRates</th>\n",
       "      <th>ExitRates</th>\n",
       "      <th>PageValues</th>\n",
       "      <th>SpecialDay</th>\n",
       "      <th>Month</th>\n",
       "      <th>OperatingSystems</th>\n",
       "      <th>Browser</th>\n",
       "      <th>Region</th>\n",
       "      <th>TrafficType</th>\n",
       "      <th>VisitorType</th>\n",
       "      <th>Weekend</th>\n",
       "      <th>Revenue</th>\n",
       "    </tr>\n",
       "  </thead>\n",
       "  <tbody>\n",
       "    <tr>\n",
       "      <th>0</th>\n",
       "      <td>0.0</td>\n",
       "      <td>0.0</td>\n",
       "      <td>0.0</td>\n",
       "      <td>0.0</td>\n",
       "      <td>1.0</td>\n",
       "      <td>0.000000</td>\n",
       "      <td>0.20</td>\n",
       "      <td>0.20</td>\n",
       "      <td>0.0</td>\n",
       "      <td>0.0</td>\n",
       "      <td>Feb</td>\n",
       "      <td>1</td>\n",
       "      <td>1</td>\n",
       "      <td>1</td>\n",
       "      <td>1</td>\n",
       "      <td>Returning_Visitor</td>\n",
       "      <td>False</td>\n",
       "      <td>False</td>\n",
       "    </tr>\n",
       "    <tr>\n",
       "      <th>1</th>\n",
       "      <td>0.0</td>\n",
       "      <td>0.0</td>\n",
       "      <td>0.0</td>\n",
       "      <td>0.0</td>\n",
       "      <td>2.0</td>\n",
       "      <td>64.000000</td>\n",
       "      <td>0.00</td>\n",
       "      <td>0.10</td>\n",
       "      <td>0.0</td>\n",
       "      <td>0.0</td>\n",
       "      <td>Feb</td>\n",
       "      <td>2</td>\n",
       "      <td>2</td>\n",
       "      <td>1</td>\n",
       "      <td>2</td>\n",
       "      <td>Returning_Visitor</td>\n",
       "      <td>False</td>\n",
       "      <td>False</td>\n",
       "    </tr>\n",
       "    <tr>\n",
       "      <th>2</th>\n",
       "      <td>0.0</td>\n",
       "      <td>-1.0</td>\n",
       "      <td>0.0</td>\n",
       "      <td>-1.0</td>\n",
       "      <td>1.0</td>\n",
       "      <td>-1.000000</td>\n",
       "      <td>0.20</td>\n",
       "      <td>0.20</td>\n",
       "      <td>0.0</td>\n",
       "      <td>0.0</td>\n",
       "      <td>Feb</td>\n",
       "      <td>4</td>\n",
       "      <td>1</td>\n",
       "      <td>9</td>\n",
       "      <td>3</td>\n",
       "      <td>Returning_Visitor</td>\n",
       "      <td>False</td>\n",
       "      <td>False</td>\n",
       "    </tr>\n",
       "    <tr>\n",
       "      <th>3</th>\n",
       "      <td>0.0</td>\n",
       "      <td>0.0</td>\n",
       "      <td>0.0</td>\n",
       "      <td>0.0</td>\n",
       "      <td>2.0</td>\n",
       "      <td>2.666667</td>\n",
       "      <td>0.05</td>\n",
       "      <td>0.14</td>\n",
       "      <td>0.0</td>\n",
       "      <td>0.0</td>\n",
       "      <td>Feb</td>\n",
       "      <td>3</td>\n",
       "      <td>2</td>\n",
       "      <td>2</td>\n",
       "      <td>4</td>\n",
       "      <td>Returning_Visitor</td>\n",
       "      <td>False</td>\n",
       "      <td>False</td>\n",
       "    </tr>\n",
       "    <tr>\n",
       "      <th>4</th>\n",
       "      <td>0.0</td>\n",
       "      <td>0.0</td>\n",
       "      <td>0.0</td>\n",
       "      <td>0.0</td>\n",
       "      <td>10.0</td>\n",
       "      <td>627.500000</td>\n",
       "      <td>0.02</td>\n",
       "      <td>0.05</td>\n",
       "      <td>0.0</td>\n",
       "      <td>0.0</td>\n",
       "      <td>Feb</td>\n",
       "      <td>3</td>\n",
       "      <td>3</td>\n",
       "      <td>1</td>\n",
       "      <td>4</td>\n",
       "      <td>Returning_Visitor</td>\n",
       "      <td>True</td>\n",
       "      <td>False</td>\n",
       "    </tr>\n",
       "  </tbody>\n",
       "</table>\n",
       "</div>"
      ],
      "text/plain": [
       "   Administrative  Administrative_Duration  Informational  \\\n",
       "0             0.0                      0.0            0.0   \n",
       "1             0.0                      0.0            0.0   \n",
       "2             0.0                     -1.0            0.0   \n",
       "3             0.0                      0.0            0.0   \n",
       "4             0.0                      0.0            0.0   \n",
       "\n",
       "   Informational_Duration  ProductRelated  ProductRelated_Duration  \\\n",
       "0                     0.0             1.0                 0.000000   \n",
       "1                     0.0             2.0                64.000000   \n",
       "2                    -1.0             1.0                -1.000000   \n",
       "3                     0.0             2.0                 2.666667   \n",
       "4                     0.0            10.0               627.500000   \n",
       "\n",
       "   BounceRates  ExitRates  PageValues  SpecialDay Month  OperatingSystems  \\\n",
       "0         0.20       0.20         0.0         0.0   Feb                 1   \n",
       "1         0.00       0.10         0.0         0.0   Feb                 2   \n",
       "2         0.20       0.20         0.0         0.0   Feb                 4   \n",
       "3         0.05       0.14         0.0         0.0   Feb                 3   \n",
       "4         0.02       0.05         0.0         0.0   Feb                 3   \n",
       "\n",
       "   Browser  Region  TrafficType        VisitorType  Weekend  Revenue  \n",
       "0        1       1            1  Returning_Visitor    False    False  \n",
       "1        2       1            2  Returning_Visitor    False    False  \n",
       "2        1       9            3  Returning_Visitor    False    False  \n",
       "3        2       2            4  Returning_Visitor    False    False  \n",
       "4        3       1            4  Returning_Visitor     True    False  "
      ]
     },
     "execution_count": 4,
     "metadata": {},
     "output_type": "execute_result"
    }
   ],
   "source": [
    "print(u'- El número de filas en el dataset es: {}'.format(XY.shape[0]))\n",
    "print(u'- El número de columnas en el dataset es: {}'.format(XY.shape[1]))\n",
    "print(u'- Los nombres de las variables son: {}'.format(list(XY.columns)))\n",
    "XY[:5]"
   ]
  },
  {
   "cell_type": "code",
   "execution_count": 5,
   "metadata": {},
   "outputs": [
    {
     "name": "stdout",
     "output_type": "stream",
     "text": [
      "<class 'pandas.core.frame.DataFrame'>\n",
      "RangeIndex: 12330 entries, 0 to 12329\n",
      "Data columns (total 18 columns):\n",
      " #   Column                   Non-Null Count  Dtype  \n",
      "---  ------                   --------------  -----  \n",
      " 0   Administrative           12316 non-null  float64\n",
      " 1   Administrative_Duration  12316 non-null  float64\n",
      " 2   Informational            12316 non-null  float64\n",
      " 3   Informational_Duration   12316 non-null  float64\n",
      " 4   ProductRelated           12316 non-null  float64\n",
      " 5   ProductRelated_Duration  12316 non-null  float64\n",
      " 6   BounceRates              12316 non-null  float64\n",
      " 7   ExitRates                12316 non-null  float64\n",
      " 8   PageValues               12330 non-null  float64\n",
      " 9   SpecialDay               12330 non-null  float64\n",
      " 10  Month                    12330 non-null  object \n",
      " 11  OperatingSystems         12330 non-null  int64  \n",
      " 12  Browser                  12330 non-null  int64  \n",
      " 13  Region                   12330 non-null  int64  \n",
      " 14  TrafficType              12330 non-null  int64  \n",
      " 15  VisitorType              12330 non-null  object \n",
      " 16  Weekend                  12330 non-null  bool   \n",
      " 17  Revenue                  12330 non-null  bool   \n",
      "dtypes: bool(2), float64(10), int64(4), object(2)\n",
      "memory usage: 1.4+ MB\n"
     ]
    }
   ],
   "source": [
    "XY.info()"
   ]
  },
  {
   "cell_type": "code",
   "execution_count": 6,
   "metadata": {},
   "outputs": [
    {
     "data": {
      "text/html": [
       "<div>\n",
       "<style scoped>\n",
       "    .dataframe tbody tr th:only-of-type {\n",
       "        vertical-align: middle;\n",
       "    }\n",
       "\n",
       "    .dataframe tbody tr th {\n",
       "        vertical-align: top;\n",
       "    }\n",
       "\n",
       "    .dataframe thead th {\n",
       "        text-align: right;\n",
       "    }\n",
       "</style>\n",
       "<table border=\"1\" class=\"dataframe\">\n",
       "  <thead>\n",
       "    <tr style=\"text-align: right;\">\n",
       "      <th></th>\n",
       "      <th>Weekend</th>\n",
       "      <th>Revenue</th>\n",
       "    </tr>\n",
       "  </thead>\n",
       "  <tbody>\n",
       "    <tr>\n",
       "      <th>count</th>\n",
       "      <td>12330</td>\n",
       "      <td>12330</td>\n",
       "    </tr>\n",
       "    <tr>\n",
       "      <th>unique</th>\n",
       "      <td>2</td>\n",
       "      <td>2</td>\n",
       "    </tr>\n",
       "    <tr>\n",
       "      <th>top</th>\n",
       "      <td>False</td>\n",
       "      <td>False</td>\n",
       "    </tr>\n",
       "    <tr>\n",
       "      <th>freq</th>\n",
       "      <td>9462</td>\n",
       "      <td>10422</td>\n",
       "    </tr>\n",
       "  </tbody>\n",
       "</table>\n",
       "</div>"
      ],
      "text/plain": [
       "       Weekend Revenue\n",
       "count    12330   12330\n",
       "unique       2       2\n",
       "top      False   False\n",
       "freq      9462   10422"
      ]
     },
     "execution_count": 6,
     "metadata": {},
     "output_type": "execute_result"
    }
   ],
   "source": [
    "XY.describe(include = 'bool')"
   ]
  },
  {
   "cell_type": "markdown",
   "metadata": {},
   "source": [
    "Podemos ver que necesitamos un modelo de cluster binario de Machine Learning para identificar qué tipo de usuario va a comprar en la tienda de la página web "
   ]
  },
  {
   "cell_type": "markdown",
   "metadata": {},
   "source": [
    "# Preprocesamiento de datos"
   ]
  },
  {
   "cell_type": "markdown",
   "metadata": {},
   "source": [
    "Lo primero que se hará será eliminar los posibles nulos o missings del dataset"
   ]
  },
  {
   "cell_type": "code",
   "execution_count": 7,
   "metadata": {},
   "outputs": [
    {
     "data": {
      "text/plain": [
       "Administrative             14\n",
       "Administrative_Duration    14\n",
       "Informational              14\n",
       "Informational_Duration     14\n",
       "ProductRelated             14\n",
       "ProductRelated_Duration    14\n",
       "BounceRates                14\n",
       "ExitRates                  14\n",
       "PageValues                  0\n",
       "SpecialDay                  0\n",
       "Month                       0\n",
       "OperatingSystems            0\n",
       "Browser                     0\n",
       "Region                      0\n",
       "TrafficType                 0\n",
       "VisitorType                 0\n",
       "Weekend                     0\n",
       "Revenue                     0\n",
       "dtype: int64"
      ]
     },
     "execution_count": 7,
     "metadata": {},
     "output_type": "execute_result"
    }
   ],
   "source": [
    "XY.isnull().sum()\n"
   ]
  },
  {
   "cell_type": "code",
   "execution_count": 8,
   "metadata": {},
   "outputs": [],
   "source": [
    "XY = XY.dropna()"
   ]
  },
  {
   "cell_type": "code",
   "execution_count": 9,
   "metadata": {},
   "outputs": [
    {
     "data": {
      "text/plain": [
       "Administrative             0\n",
       "Administrative_Duration    0\n",
       "Informational              0\n",
       "Informational_Duration     0\n",
       "ProductRelated             0\n",
       "ProductRelated_Duration    0\n",
       "BounceRates                0\n",
       "ExitRates                  0\n",
       "PageValues                 0\n",
       "SpecialDay                 0\n",
       "Month                      0\n",
       "OperatingSystems           0\n",
       "Browser                    0\n",
       "Region                     0\n",
       "TrafficType                0\n",
       "VisitorType                0\n",
       "Weekend                    0\n",
       "Revenue                    0\n",
       "dtype: int64"
      ]
     },
     "execution_count": 9,
     "metadata": {},
     "output_type": "execute_result"
    }
   ],
   "source": [
    "XY.isnull().sum()"
   ]
  },
  {
   "cell_type": "code",
   "execution_count": 10,
   "metadata": {},
   "outputs": [],
   "source": [
    "def describe_column(df, col):\n",
    "    print(f'Columna: {col}  -  Tipo de datos: {df[col].dtype}')\n",
    "    print(f'Número de valores nulos: {df[col].isnull().sum()}  -  Número de valores distintos: {df[col].nunique()}')\n",
    "    print('Valores más frecuentes:')\n",
    "    for i, v in df[col].value_counts().iloc[:20].items() :\n",
    "        print(i, '\\t', v)\n",
    "#Función para describir cada columna"
   ]
  },
  {
   "cell_type": "code",
   "execution_count": 11,
   "metadata": {},
   "outputs": [
    {
     "name": "stdout",
     "output_type": "stream",
     "text": [
      "Columna: Administrative  -  Tipo de datos: float64\n",
      "Número de valores nulos: 0  -  Número de valores distintos: 27\n",
      "Valores más frecuentes:\n",
      "0.0 \t 5754\n",
      "1.0 \t 1354\n",
      "2.0 \t 1114\n",
      "3.0 \t 915\n",
      "4.0 \t 765\n",
      "5.0 \t 575\n",
      "6.0 \t 432\n",
      "7.0 \t 338\n",
      "8.0 \t 287\n",
      "9.0 \t 225\n",
      "10.0 \t 153\n",
      "11.0 \t 105\n",
      "12.0 \t 86\n",
      "13.0 \t 56\n",
      "14.0 \t 44\n",
      "15.0 \t 38\n",
      "16.0 \t 24\n",
      "17.0 \t 16\n",
      "18.0 \t 12\n",
      "19.0 \t 6\n"
     ]
    }
   ],
   "source": [
    "describe_column(XY, 'Administrative')"
   ]
  },
  {
   "cell_type": "code",
   "execution_count": 12,
   "metadata": {},
   "outputs": [
    {
     "name": "stdout",
     "output_type": "stream",
     "text": [
      "Columna: Administrative_Duration  -  Tipo de datos: float64\n",
      "Número de valores nulos: 0  -  Número de valores distintos: 3336\n",
      "Valores más frecuentes:\n",
      "0.0 \t 5857\n",
      "4.0 \t 56\n",
      "5.0 \t 53\n",
      "7.0 \t 45\n",
      "11.0 \t 42\n",
      "6.0 \t 41\n",
      "14.0 \t 37\n",
      "9.0 \t 35\n",
      "-1.0 \t 33\n",
      "15.0 \t 33\n",
      "10.0 \t 32\n",
      "19.0 \t 29\n",
      "13.0 \t 29\n",
      "21.0 \t 28\n",
      "12.0 \t 28\n",
      "18.0 \t 26\n",
      "8.0 \t 26\n",
      "3.0 \t 26\n",
      "20.0 \t 25\n",
      "17.0 \t 25\n"
     ]
    }
   ],
   "source": [
    "describe_column(XY, 'Administrative_Duration')"
   ]
  },
  {
   "cell_type": "markdown",
   "metadata": {},
   "source": [
    "Existen valores erróneos de -1 sobre la duración que pasa el cliente en la página. Lo que haremos será borrar todos esos valores ya que los considero como nulos."
   ]
  },
  {
   "cell_type": "code",
   "execution_count": 13,
   "metadata": {},
   "outputs": [],
   "source": [
    "menos_1 = XY['Administrative_Duration'] == -1\n",
    "menos_uno = XY[menos_1]"
   ]
  },
  {
   "cell_type": "code",
   "execution_count": 14,
   "metadata": {},
   "outputs": [
    {
     "data": {
      "text/html": [
       "<div>\n",
       "<style scoped>\n",
       "    .dataframe tbody tr th:only-of-type {\n",
       "        vertical-align: middle;\n",
       "    }\n",
       "\n",
       "    .dataframe tbody tr th {\n",
       "        vertical-align: top;\n",
       "    }\n",
       "\n",
       "    .dataframe thead th {\n",
       "        text-align: right;\n",
       "    }\n",
       "</style>\n",
       "<table border=\"1\" class=\"dataframe\">\n",
       "  <thead>\n",
       "    <tr style=\"text-align: right;\">\n",
       "      <th></th>\n",
       "      <th>Administrative</th>\n",
       "      <th>Administrative_Duration</th>\n",
       "      <th>Informational</th>\n",
       "      <th>Informational_Duration</th>\n",
       "      <th>ProductRelated</th>\n",
       "      <th>ProductRelated_Duration</th>\n",
       "      <th>BounceRates</th>\n",
       "      <th>ExitRates</th>\n",
       "      <th>PageValues</th>\n",
       "      <th>SpecialDay</th>\n",
       "      <th>Month</th>\n",
       "      <th>OperatingSystems</th>\n",
       "      <th>Browser</th>\n",
       "      <th>Region</th>\n",
       "      <th>TrafficType</th>\n",
       "      <th>VisitorType</th>\n",
       "      <th>Weekend</th>\n",
       "      <th>Revenue</th>\n",
       "    </tr>\n",
       "  </thead>\n",
       "  <tbody>\n",
       "    <tr>\n",
       "      <th>2</th>\n",
       "      <td>0.0</td>\n",
       "      <td>-1.0</td>\n",
       "      <td>0.0</td>\n",
       "      <td>-1.0</td>\n",
       "      <td>1.0</td>\n",
       "      <td>-1.0</td>\n",
       "      <td>0.2</td>\n",
       "      <td>0.2</td>\n",
       "      <td>0.0</td>\n",
       "      <td>0.0</td>\n",
       "      <td>Feb</td>\n",
       "      <td>4</td>\n",
       "      <td>1</td>\n",
       "      <td>9</td>\n",
       "      <td>3</td>\n",
       "      <td>Returning_Visitor</td>\n",
       "      <td>False</td>\n",
       "      <td>False</td>\n",
       "    </tr>\n",
       "    <tr>\n",
       "      <th>6</th>\n",
       "      <td>0.0</td>\n",
       "      <td>-1.0</td>\n",
       "      <td>0.0</td>\n",
       "      <td>-1.0</td>\n",
       "      <td>1.0</td>\n",
       "      <td>-1.0</td>\n",
       "      <td>0.2</td>\n",
       "      <td>0.2</td>\n",
       "      <td>0.0</td>\n",
       "      <td>0.4</td>\n",
       "      <td>Feb</td>\n",
       "      <td>2</td>\n",
       "      <td>4</td>\n",
       "      <td>3</td>\n",
       "      <td>3</td>\n",
       "      <td>Returning_Visitor</td>\n",
       "      <td>False</td>\n",
       "      <td>False</td>\n",
       "    </tr>\n",
       "    <tr>\n",
       "      <th>7</th>\n",
       "      <td>1.0</td>\n",
       "      <td>-1.0</td>\n",
       "      <td>0.0</td>\n",
       "      <td>-1.0</td>\n",
       "      <td>1.0</td>\n",
       "      <td>-1.0</td>\n",
       "      <td>0.2</td>\n",
       "      <td>0.2</td>\n",
       "      <td>0.0</td>\n",
       "      <td>0.0</td>\n",
       "      <td>Feb</td>\n",
       "      <td>1</td>\n",
       "      <td>2</td>\n",
       "      <td>1</td>\n",
       "      <td>5</td>\n",
       "      <td>Returning_Visitor</td>\n",
       "      <td>True</td>\n",
       "      <td>False</td>\n",
       "    </tr>\n",
       "    <tr>\n",
       "      <th>16</th>\n",
       "      <td>0.0</td>\n",
       "      <td>-1.0</td>\n",
       "      <td>0.0</td>\n",
       "      <td>-1.0</td>\n",
       "      <td>1.0</td>\n",
       "      <td>-1.0</td>\n",
       "      <td>0.2</td>\n",
       "      <td>0.2</td>\n",
       "      <td>0.0</td>\n",
       "      <td>0.0</td>\n",
       "      <td>Feb</td>\n",
       "      <td>1</td>\n",
       "      <td>1</td>\n",
       "      <td>4</td>\n",
       "      <td>3</td>\n",
       "      <td>Returning_Visitor</td>\n",
       "      <td>False</td>\n",
       "      <td>False</td>\n",
       "    </tr>\n",
       "    <tr>\n",
       "      <th>21</th>\n",
       "      <td>0.0</td>\n",
       "      <td>-1.0</td>\n",
       "      <td>0.0</td>\n",
       "      <td>-1.0</td>\n",
       "      <td>1.0</td>\n",
       "      <td>-1.0</td>\n",
       "      <td>0.2</td>\n",
       "      <td>0.2</td>\n",
       "      <td>0.0</td>\n",
       "      <td>0.0</td>\n",
       "      <td>Feb</td>\n",
       "      <td>3</td>\n",
       "      <td>3</td>\n",
       "      <td>1</td>\n",
       "      <td>3</td>\n",
       "      <td>Returning_Visitor</td>\n",
       "      <td>False</td>\n",
       "      <td>False</td>\n",
       "    </tr>\n",
       "  </tbody>\n",
       "</table>\n",
       "</div>"
      ],
      "text/plain": [
       "    Administrative  Administrative_Duration  Informational  \\\n",
       "2              0.0                     -1.0            0.0   \n",
       "6              0.0                     -1.0            0.0   \n",
       "7              1.0                     -1.0            0.0   \n",
       "16             0.0                     -1.0            0.0   \n",
       "21             0.0                     -1.0            0.0   \n",
       "\n",
       "    Informational_Duration  ProductRelated  ProductRelated_Duration  \\\n",
       "2                     -1.0             1.0                     -1.0   \n",
       "6                     -1.0             1.0                     -1.0   \n",
       "7                     -1.0             1.0                     -1.0   \n",
       "16                    -1.0             1.0                     -1.0   \n",
       "21                    -1.0             1.0                     -1.0   \n",
       "\n",
       "    BounceRates  ExitRates  PageValues  SpecialDay Month  OperatingSystems  \\\n",
       "2           0.2        0.2         0.0         0.0   Feb                 4   \n",
       "6           0.2        0.2         0.0         0.4   Feb                 2   \n",
       "7           0.2        0.2         0.0         0.0   Feb                 1   \n",
       "16          0.2        0.2         0.0         0.0   Feb                 1   \n",
       "21          0.2        0.2         0.0         0.0   Feb                 3   \n",
       "\n",
       "    Browser  Region  TrafficType        VisitorType  Weekend  Revenue  \n",
       "2         1       9            3  Returning_Visitor    False    False  \n",
       "6         4       3            3  Returning_Visitor    False    False  \n",
       "7         2       1            5  Returning_Visitor     True    False  \n",
       "16        1       4            3  Returning_Visitor    False    False  \n",
       "21        3       1            3  Returning_Visitor    False    False  "
      ]
     },
     "execution_count": 14,
     "metadata": {},
     "output_type": "execute_result"
    }
   ],
   "source": [
    "menos_uno.head(5)"
   ]
  },
  {
   "cell_type": "code",
   "execution_count": 15,
   "metadata": {},
   "outputs": [],
   "source": [
    "XY = XY.drop(XY[XY['Administrative_Duration']==-1].index)"
   ]
  },
  {
   "cell_type": "code",
   "execution_count": 16,
   "metadata": {},
   "outputs": [
    {
     "name": "stdout",
     "output_type": "stream",
     "text": [
      "Columna: Administrative_Duration  -  Tipo de datos: float64\n",
      "Número de valores nulos: 0  -  Número de valores distintos: 3335\n",
      "Valores más frecuentes:\n",
      "0.0 \t 5857\n",
      "4.0 \t 56\n",
      "5.0 \t 53\n",
      "7.0 \t 45\n",
      "11.0 \t 42\n",
      "6.0 \t 41\n",
      "14.0 \t 37\n",
      "9.0 \t 35\n",
      "15.0 \t 33\n",
      "10.0 \t 32\n",
      "19.0 \t 29\n",
      "13.0 \t 29\n",
      "12.0 \t 28\n",
      "21.0 \t 28\n",
      "8.0 \t 26\n",
      "3.0 \t 26\n",
      "18.0 \t 26\n",
      "20.0 \t 25\n",
      "17.0 \t 25\n",
      "37.0 \t 24\n"
     ]
    }
   ],
   "source": [
    "describe_column(XY, 'Administrative_Duration')"
   ]
  },
  {
   "cell_type": "code",
   "execution_count": 17,
   "metadata": {},
   "outputs": [
    {
     "name": "stdout",
     "output_type": "stream",
     "text": [
      "Columna: Informational  -  Tipo de datos: float64\n",
      "Número de valores nulos: 0  -  Número de valores distintos: 17\n",
      "Valores más frecuentes:\n",
      "0.0 \t 9653\n",
      "1.0 \t 1041\n",
      "2.0 \t 727\n",
      "3.0 \t 380\n",
      "4.0 \t 222\n",
      "5.0 \t 99\n",
      "6.0 \t 78\n",
      "7.0 \t 36\n",
      "9.0 \t 15\n",
      "8.0 \t 14\n",
      "10.0 \t 7\n",
      "12.0 \t 5\n",
      "14.0 \t 2\n",
      "11.0 \t 1\n",
      "16.0 \t 1\n",
      "24.0 \t 1\n",
      "13.0 \t 1\n"
     ]
    }
   ],
   "source": [
    "describe_column(XY, 'Informational')"
   ]
  },
  {
   "cell_type": "code",
   "execution_count": 18,
   "metadata": {},
   "outputs": [
    {
     "name": "stdout",
     "output_type": "stream",
     "text": [
      "Columna: Informational_Duration  -  Tipo de datos: float64\n",
      "Número de valores nulos: 0  -  Número de valores distintos: 1258\n",
      "Valores más frecuentes:\n",
      "0.0 \t 9879\n",
      "9.0 \t 33\n",
      "7.0 \t 26\n",
      "6.0 \t 26\n",
      "10.0 \t 26\n",
      "13.0 \t 23\n",
      "12.0 \t 23\n",
      "8.0 \t 22\n",
      "16.0 \t 22\n",
      "11.0 \t 21\n",
      "17.0 \t 18\n",
      "15.0 \t 18\n",
      "5.0 \t 18\n",
      "23.0 \t 17\n",
      "4.0 \t 17\n",
      "14.0 \t 17\n",
      "18.0 \t 17\n",
      "3.0 \t 16\n",
      "20.0 \t 14\n",
      "21.0 \t 14\n"
     ]
    }
   ],
   "source": [
    "describe_column(XY, 'Informational_Duration')"
   ]
  },
  {
   "cell_type": "code",
   "execution_count": 19,
   "metadata": {},
   "outputs": [
    {
     "name": "stdout",
     "output_type": "stream",
     "text": [
      "Columna: ProductRelated  -  Tipo de datos: float64\n",
      "Número de valores nulos: 0  -  Número de valores distintos: 311\n",
      "Valores más frecuentes:\n",
      "1.0 \t 592\n",
      "2.0 \t 460\n",
      "3.0 \t 456\n",
      "4.0 \t 400\n",
      "6.0 \t 395\n",
      "7.0 \t 391\n",
      "5.0 \t 380\n",
      "8.0 \t 370\n",
      "10.0 \t 330\n",
      "9.0 \t 317\n",
      "12.0 \t 313\n",
      "11.0 \t 308\n",
      "13.0 \t 289\n",
      "15.0 \t 270\n",
      "16.0 \t 260\n",
      "14.0 \t 251\n",
      "17.0 \t 226\n",
      "20.0 \t 225\n",
      "19.0 \t 218\n",
      "22.0 \t 213\n"
     ]
    }
   ],
   "source": [
    "describe_column(XY, 'ProductRelated')"
   ]
  },
  {
   "cell_type": "code",
   "execution_count": 20,
   "metadata": {},
   "outputs": [
    {
     "name": "stdout",
     "output_type": "stream",
     "text": [
      "Columna: ProductRelated_Duration  -  Tipo de datos: float64\n",
      "Número de valores nulos: 0  -  Número de valores distintos: 9551\n",
      "Valores más frecuentes:\n",
      "0.0 \t 719\n",
      "17.0 \t 21\n",
      "8.0 \t 17\n",
      "11.0 \t 17\n",
      "15.0 \t 16\n",
      "22.0 \t 15\n",
      "12.0 \t 15\n",
      "19.0 \t 15\n",
      "13.0 \t 14\n",
      "7.0 \t 14\n",
      "24.0 \t 13\n",
      "14.0 \t 13\n",
      "5.0 \t 13\n",
      "59.0 \t 12\n",
      "25.0 \t 12\n",
      "34.0 \t 12\n",
      "50.0 \t 11\n",
      "36.0 \t 11\n",
      "26.0 \t 10\n",
      "64.0 \t 10\n"
     ]
    }
   ],
   "source": [
    "describe_column(XY, 'ProductRelated_Duration')"
   ]
  },
  {
   "cell_type": "code",
   "execution_count": 21,
   "metadata": {},
   "outputs": [
    {
     "name": "stdout",
     "output_type": "stream",
     "text": [
      "Columna: BounceRates  -  Tipo de datos: float64\n",
      "Número de valores nulos: 0  -  Número de valores distintos: 1872\n",
      "Valores más frecuentes:\n",
      "0.0 \t 5507\n",
      "0.2 \t 667\n",
      "0.066666667 \t 134\n",
      "0.028571429 \t 115\n",
      "0.05 \t 112\n",
      "0.033333333 \t 101\n",
      "0.025 \t 100\n",
      "0.016666667 \t 99\n",
      "0.1 \t 97\n",
      "0.04 \t 95\n",
      "0.02 \t 91\n",
      "0.022222222000000003 \t 88\n",
      "0.0125 \t 85\n",
      "0.018181818 \t 81\n",
      "0.015384615 \t 76\n",
      "0.014285714 \t 73\n",
      "0.008333333 \t 72\n",
      "0.011111111000000002 \t 62\n",
      "0.01 \t 61\n",
      "0.013333333000000001 \t 54\n"
     ]
    }
   ],
   "source": [
    "describe_column(XY, 'BounceRates')"
   ]
  },
  {
   "cell_type": "code",
   "execution_count": 22,
   "metadata": {},
   "outputs": [
    {
     "name": "stdout",
     "output_type": "stream",
     "text": [
      "Columna: ExitRates  -  Tipo de datos: float64\n",
      "Número de valores nulos: 0  -  Número de valores distintos: 4777\n",
      "Valores más frecuentes:\n",
      "0.2 \t 676\n",
      "0.1 \t 336\n",
      "0.05 \t 326\n",
      "0.033333333 \t 290\n",
      "0.066666667 \t 265\n",
      "0.025 \t 224\n",
      "0.04 \t 212\n",
      "0.016666667 \t 181\n",
      "0.02 \t 167\n",
      "0.022222222000000003 \t 152\n",
      "0.028571429 \t 150\n",
      "0.014285714 \t 118\n",
      "0.0125 \t 112\n",
      "0.011111111000000002 \t 103\n",
      "0.013333333000000001 \t 87\n",
      "0.018181818 \t 87\n",
      "0.015384615 \t 83\n",
      "0.008333333 \t 78\n",
      "0.0 \t 76\n",
      "0.01 \t 70\n"
     ]
    }
   ],
   "source": [
    "describe_column(XY, 'ExitRates')"
   ]
  },
  {
   "cell_type": "code",
   "execution_count": 23,
   "metadata": {},
   "outputs": [
    {
     "name": "stdout",
     "output_type": "stream",
     "text": [
      "Columna: PageValues  -  Tipo de datos: float64\n",
      "Número de valores nulos: 0  -  Número de valores distintos: 2704\n",
      "Valores más frecuentes:\n",
      "0.0 \t 9553\n",
      "53.988 \t 6\n",
      "42.29306752 \t 3\n",
      "40.27815244 \t 2\n",
      "12.55885714 \t 2\n",
      "44.89345937 \t 2\n",
      "58.9241766 \t 2\n",
      "16.158558199999998 \t 2\n",
      "10.99901844 \t 2\n",
      "21.2112655 \t 2\n",
      "26.5455 \t 2\n",
      "59.988 \t 2\n",
      "9.084767800000002 \t 2\n",
      "87.90296059999999 \t 2\n",
      "22.738000000000003 \t 2\n",
      "34.03997536 \t 2\n",
      "40.4014481 \t 2\n",
      "54.98 \t 2\n",
      "14.1273698 \t 2\n",
      "78.56959864 \t 2\n"
     ]
    }
   ],
   "source": [
    "describe_column(XY, 'PageValues')"
   ]
  },
  {
   "cell_type": "code",
   "execution_count": 24,
   "metadata": {},
   "outputs": [
    {
     "name": "stdout",
     "output_type": "stream",
     "text": [
      "Columna: SpecialDay  -  Tipo de datos: float64\n",
      "Número de valores nulos: 0  -  Número de valores distintos: 6\n",
      "Valores más frecuentes:\n",
      "0.0 \t 11035\n",
      "0.6 \t 349\n",
      "0.8 \t 325\n",
      "0.4 \t 242\n",
      "0.2 \t 178\n",
      "1.0 \t 154\n"
     ]
    }
   ],
   "source": [
    "describe_column(XY, 'SpecialDay')"
   ]
  },
  {
   "cell_type": "code",
   "execution_count": 25,
   "metadata": {},
   "outputs": [
    {
     "name": "stdout",
     "output_type": "stream",
     "text": [
      "Columna: Month  -  Tipo de datos: object\n",
      "Número de valores nulos: 0  -  Número de valores distintos: 10\n",
      "Valores más frecuentes:\n",
      "May \t 3357\n",
      "Nov \t 2995\n",
      "Mar \t 1884\n",
      "Dec \t 1727\n",
      "Oct \t 549\n",
      "Sep \t 448\n",
      "Aug \t 433\n",
      "Jul \t 431\n",
      "June \t 288\n",
      "Feb \t 171\n"
     ]
    }
   ],
   "source": [
    "describe_column(XY, 'Month')"
   ]
  },
  {
   "cell_type": "code",
   "execution_count": 26,
   "metadata": {},
   "outputs": [
    {
     "name": "stdout",
     "output_type": "stream",
     "text": [
      "Columna: OperatingSystems  -  Tipo de datos: int64\n",
      "Número de valores nulos: 0  -  Número de valores distintos: 8\n",
      "Valores más frecuentes:\n",
      "2 \t 6578\n",
      "1 \t 2573\n",
      "3 \t 2545\n",
      "4 \t 476\n",
      "8 \t 79\n",
      "6 \t 19\n",
      "7 \t 7\n",
      "5 \t 6\n"
     ]
    }
   ],
   "source": [
    "describe_column(XY, 'OperatingSystems')"
   ]
  },
  {
   "cell_type": "code",
   "execution_count": 27,
   "metadata": {},
   "outputs": [
    {
     "name": "stdout",
     "output_type": "stream",
     "text": [
      "Columna: Browser  -  Tipo de datos: int64\n",
      "Número de valores nulos: 0  -  Número de valores distintos: 13\n",
      "Valores más frecuentes:\n",
      "2 \t 7934\n",
      "1 \t 2451\n",
      "4 \t 732\n",
      "5 \t 465\n",
      "6 \t 174\n",
      "10 \t 162\n",
      "8 \t 134\n",
      "3 \t 104\n",
      "13 \t 61\n",
      "7 \t 49\n",
      "12 \t 10\n",
      "11 \t 6\n",
      "9 \t 1\n"
     ]
    }
   ],
   "source": [
    "describe_column(XY, 'Browser')"
   ]
  },
  {
   "cell_type": "code",
   "execution_count": 28,
   "metadata": {},
   "outputs": [
    {
     "name": "stdout",
     "output_type": "stream",
     "text": [
      "Columna: Region  -  Tipo de datos: int64\n",
      "Número de valores nulos: 0  -  Número de valores distintos: 9\n",
      "Valores más frecuentes:\n",
      "1 \t 4765\n",
      "3 \t 2394\n",
      "4 \t 1175\n",
      "2 \t 1130\n",
      "6 \t 804\n",
      "7 \t 758\n",
      "9 \t 508\n",
      "8 \t 434\n",
      "5 \t 315\n"
     ]
    }
   ],
   "source": [
    "describe_column(XY, 'Region')"
   ]
  },
  {
   "cell_type": "code",
   "execution_count": 29,
   "metadata": {},
   "outputs": [
    {
     "name": "stdout",
     "output_type": "stream",
     "text": [
      "Columna: TrafficType  -  Tipo de datos: int64\n",
      "Número de valores nulos: 0  -  Número de valores distintos: 20\n",
      "Valores más frecuentes:\n",
      "2 \t 3907\n",
      "1 \t 2435\n",
      "3 \t 2036\n",
      "4 \t 1067\n",
      "13 \t 736\n",
      "10 \t 450\n",
      "6 \t 442\n",
      "8 \t 343\n",
      "5 \t 259\n",
      "11 \t 247\n",
      "20 \t 197\n",
      "9 \t 42\n",
      "7 \t 40\n",
      "15 \t 37\n",
      "19 \t 17\n",
      "14 \t 13\n",
      "18 \t 10\n",
      "16 \t 3\n",
      "12 \t 1\n",
      "17 \t 1\n"
     ]
    }
   ],
   "source": [
    "describe_column(XY, 'TrafficType')"
   ]
  },
  {
   "cell_type": "code",
   "execution_count": 30,
   "metadata": {},
   "outputs": [
    {
     "name": "stdout",
     "output_type": "stream",
     "text": [
      "Columna: VisitorType  -  Tipo de datos: object\n",
      "Número de valores nulos: 0  -  Número de valores distintos: 3\n",
      "Valores más frecuentes:\n",
      "Returning_Visitor \t 10504\n",
      "New_Visitor \t 1694\n",
      "Other \t 85\n"
     ]
    }
   ],
   "source": [
    "describe_column(XY, 'VisitorType')"
   ]
  },
  {
   "cell_type": "code",
   "execution_count": 31,
   "metadata": {},
   "outputs": [
    {
     "name": "stdout",
     "output_type": "stream",
     "text": [
      "Columna: Weekend  -  Tipo de datos: bool\n",
      "Número de valores nulos: 0  -  Número de valores distintos: 2\n",
      "Valores más frecuentes:\n",
      "False \t 9421\n",
      "True \t 2862\n"
     ]
    }
   ],
   "source": [
    "describe_column(XY, 'Weekend')"
   ]
  },
  {
   "cell_type": "code",
   "execution_count": 32,
   "metadata": {},
   "outputs": [
    {
     "name": "stdout",
     "output_type": "stream",
     "text": [
      "Columna: Revenue  -  Tipo de datos: bool\n",
      "Número de valores nulos: 0  -  Número de valores distintos: 2\n",
      "Valores más frecuentes:\n",
      "False \t 10375\n",
      "True \t 1908\n"
     ]
    }
   ],
   "source": [
    "describe_column(XY, 'Revenue')"
   ]
  },
  {
   "cell_type": "markdown",
   "metadata": {},
   "source": [
    "Para graficar nuestras variables, lo primero es transformar las variables categóricas a numéricas."
   ]
  },
  {
   "cell_type": "markdown",
   "metadata": {},
   "source": [
    "Transformación de los booleanos a numéricos"
   ]
  },
  {
   "cell_type": "code",
   "execution_count": 33,
   "metadata": {},
   "outputs": [],
   "source": [
    "XY['Weekend'] = XY['Weekend'].map({False:0, True:1})\n",
    "XY['Revenue'] = XY['Revenue'].map({False:0, True:1})"
   ]
  },
  {
   "cell_type": "markdown",
   "metadata": {},
   "source": [
    "Para tomar una decisión sobre qué modelo emplear, primero necesitamos saber cuántas variables tiene 'Month' y 'VisitorType'"
   ]
  },
  {
   "cell_type": "code",
   "execution_count": 34,
   "metadata": {},
   "outputs": [
    {
     "data": {
      "text/plain": [
       "array(['Feb', 'Mar', 'May', 'Oct', 'June', 'Jul', 'Aug', 'Nov', 'Sep',\n",
       "       'Dec'], dtype=object)"
      ]
     },
     "execution_count": 34,
     "metadata": {},
     "output_type": "execute_result"
    }
   ],
   "source": [
    "XY.Month.unique()"
   ]
  },
  {
   "cell_type": "code",
   "execution_count": 35,
   "metadata": {},
   "outputs": [
    {
     "data": {
      "text/plain": [
       "array(['Returning_Visitor', 'New_Visitor', 'Other'], dtype=object)"
      ]
     },
     "execution_count": 35,
     "metadata": {},
     "output_type": "execute_result"
    }
   ],
   "source": [
    "XY.VisitorType.unique()"
   ]
  },
  {
   "cell_type": "markdown",
   "metadata": {},
   "source": [
    "Como tenemos solo 13 categorias, emplear la función dummies es una buena opción"
   ]
  },
  {
   "cell_type": "code",
   "execution_count": 36,
   "metadata": {},
   "outputs": [
    {
     "data": {
      "text/html": [
       "<div>\n",
       "<style scoped>\n",
       "    .dataframe tbody tr th:only-of-type {\n",
       "        vertical-align: middle;\n",
       "    }\n",
       "\n",
       "    .dataframe tbody tr th {\n",
       "        vertical-align: top;\n",
       "    }\n",
       "\n",
       "    .dataframe thead th {\n",
       "        text-align: right;\n",
       "    }\n",
       "</style>\n",
       "<table border=\"1\" class=\"dataframe\">\n",
       "  <thead>\n",
       "    <tr style=\"text-align: right;\">\n",
       "      <th></th>\n",
       "      <th>Administrative</th>\n",
       "      <th>Administrative_Duration</th>\n",
       "      <th>Informational</th>\n",
       "      <th>Informational_Duration</th>\n",
       "      <th>ProductRelated</th>\n",
       "      <th>ProductRelated_Duration</th>\n",
       "      <th>BounceRates</th>\n",
       "      <th>ExitRates</th>\n",
       "      <th>PageValues</th>\n",
       "      <th>SpecialDay</th>\n",
       "      <th>OperatingSystems</th>\n",
       "      <th>Browser</th>\n",
       "      <th>Region</th>\n",
       "      <th>TrafficType</th>\n",
       "      <th>Weekend</th>\n",
       "      <th>Revenue</th>\n",
       "      <th>Month_Dec</th>\n",
       "      <th>Month_Feb</th>\n",
       "      <th>Month_Jul</th>\n",
       "      <th>Month_June</th>\n",
       "      <th>Month_Mar</th>\n",
       "      <th>Month_May</th>\n",
       "      <th>Month_Nov</th>\n",
       "      <th>Month_Oct</th>\n",
       "      <th>Month_Sep</th>\n",
       "      <th>VisitorType_Other</th>\n",
       "      <th>VisitorType_Returning_Visitor</th>\n",
       "    </tr>\n",
       "  </thead>\n",
       "  <tbody>\n",
       "    <tr>\n",
       "      <th>0</th>\n",
       "      <td>0.0</td>\n",
       "      <td>0.0</td>\n",
       "      <td>0.0</td>\n",
       "      <td>0.0</td>\n",
       "      <td>1.0</td>\n",
       "      <td>0.000000</td>\n",
       "      <td>0.200000</td>\n",
       "      <td>0.200000</td>\n",
       "      <td>0.0</td>\n",
       "      <td>0.0</td>\n",
       "      <td>1</td>\n",
       "      <td>1</td>\n",
       "      <td>1</td>\n",
       "      <td>1</td>\n",
       "      <td>0</td>\n",
       "      <td>0</td>\n",
       "      <td>0</td>\n",
       "      <td>1</td>\n",
       "      <td>0</td>\n",
       "      <td>0</td>\n",
       "      <td>0</td>\n",
       "      <td>0</td>\n",
       "      <td>0</td>\n",
       "      <td>0</td>\n",
       "      <td>0</td>\n",
       "      <td>0</td>\n",
       "      <td>1</td>\n",
       "    </tr>\n",
       "    <tr>\n",
       "      <th>1</th>\n",
       "      <td>0.0</td>\n",
       "      <td>0.0</td>\n",
       "      <td>0.0</td>\n",
       "      <td>0.0</td>\n",
       "      <td>2.0</td>\n",
       "      <td>64.000000</td>\n",
       "      <td>0.000000</td>\n",
       "      <td>0.100000</td>\n",
       "      <td>0.0</td>\n",
       "      <td>0.0</td>\n",
       "      <td>2</td>\n",
       "      <td>2</td>\n",
       "      <td>1</td>\n",
       "      <td>2</td>\n",
       "      <td>0</td>\n",
       "      <td>0</td>\n",
       "      <td>0</td>\n",
       "      <td>1</td>\n",
       "      <td>0</td>\n",
       "      <td>0</td>\n",
       "      <td>0</td>\n",
       "      <td>0</td>\n",
       "      <td>0</td>\n",
       "      <td>0</td>\n",
       "      <td>0</td>\n",
       "      <td>0</td>\n",
       "      <td>1</td>\n",
       "    </tr>\n",
       "    <tr>\n",
       "      <th>3</th>\n",
       "      <td>0.0</td>\n",
       "      <td>0.0</td>\n",
       "      <td>0.0</td>\n",
       "      <td>0.0</td>\n",
       "      <td>2.0</td>\n",
       "      <td>2.666667</td>\n",
       "      <td>0.050000</td>\n",
       "      <td>0.140000</td>\n",
       "      <td>0.0</td>\n",
       "      <td>0.0</td>\n",
       "      <td>3</td>\n",
       "      <td>2</td>\n",
       "      <td>2</td>\n",
       "      <td>4</td>\n",
       "      <td>0</td>\n",
       "      <td>0</td>\n",
       "      <td>0</td>\n",
       "      <td>1</td>\n",
       "      <td>0</td>\n",
       "      <td>0</td>\n",
       "      <td>0</td>\n",
       "      <td>0</td>\n",
       "      <td>0</td>\n",
       "      <td>0</td>\n",
       "      <td>0</td>\n",
       "      <td>0</td>\n",
       "      <td>1</td>\n",
       "    </tr>\n",
       "    <tr>\n",
       "      <th>4</th>\n",
       "      <td>0.0</td>\n",
       "      <td>0.0</td>\n",
       "      <td>0.0</td>\n",
       "      <td>0.0</td>\n",
       "      <td>10.0</td>\n",
       "      <td>627.500000</td>\n",
       "      <td>0.020000</td>\n",
       "      <td>0.050000</td>\n",
       "      <td>0.0</td>\n",
       "      <td>0.0</td>\n",
       "      <td>3</td>\n",
       "      <td>3</td>\n",
       "      <td>1</td>\n",
       "      <td>4</td>\n",
       "      <td>1</td>\n",
       "      <td>0</td>\n",
       "      <td>0</td>\n",
       "      <td>1</td>\n",
       "      <td>0</td>\n",
       "      <td>0</td>\n",
       "      <td>0</td>\n",
       "      <td>0</td>\n",
       "      <td>0</td>\n",
       "      <td>0</td>\n",
       "      <td>0</td>\n",
       "      <td>0</td>\n",
       "      <td>1</td>\n",
       "    </tr>\n",
       "    <tr>\n",
       "      <th>5</th>\n",
       "      <td>0.0</td>\n",
       "      <td>0.0</td>\n",
       "      <td>0.0</td>\n",
       "      <td>0.0</td>\n",
       "      <td>19.0</td>\n",
       "      <td>154.216667</td>\n",
       "      <td>0.015789</td>\n",
       "      <td>0.024561</td>\n",
       "      <td>0.0</td>\n",
       "      <td>0.0</td>\n",
       "      <td>2</td>\n",
       "      <td>2</td>\n",
       "      <td>1</td>\n",
       "      <td>3</td>\n",
       "      <td>0</td>\n",
       "      <td>0</td>\n",
       "      <td>0</td>\n",
       "      <td>1</td>\n",
       "      <td>0</td>\n",
       "      <td>0</td>\n",
       "      <td>0</td>\n",
       "      <td>0</td>\n",
       "      <td>0</td>\n",
       "      <td>0</td>\n",
       "      <td>0</td>\n",
       "      <td>0</td>\n",
       "      <td>1</td>\n",
       "    </tr>\n",
       "  </tbody>\n",
       "</table>\n",
       "</div>"
      ],
      "text/plain": [
       "   Administrative  Administrative_Duration  Informational  \\\n",
       "0             0.0                      0.0            0.0   \n",
       "1             0.0                      0.0            0.0   \n",
       "3             0.0                      0.0            0.0   \n",
       "4             0.0                      0.0            0.0   \n",
       "5             0.0                      0.0            0.0   \n",
       "\n",
       "   Informational_Duration  ProductRelated  ProductRelated_Duration  \\\n",
       "0                     0.0             1.0                 0.000000   \n",
       "1                     0.0             2.0                64.000000   \n",
       "3                     0.0             2.0                 2.666667   \n",
       "4                     0.0            10.0               627.500000   \n",
       "5                     0.0            19.0               154.216667   \n",
       "\n",
       "   BounceRates  ExitRates  PageValues  SpecialDay  OperatingSystems  Browser  \\\n",
       "0     0.200000   0.200000         0.0         0.0                 1        1   \n",
       "1     0.000000   0.100000         0.0         0.0                 2        2   \n",
       "3     0.050000   0.140000         0.0         0.0                 3        2   \n",
       "4     0.020000   0.050000         0.0         0.0                 3        3   \n",
       "5     0.015789   0.024561         0.0         0.0                 2        2   \n",
       "\n",
       "   Region  TrafficType  Weekend  Revenue  Month_Dec  Month_Feb  Month_Jul  \\\n",
       "0       1            1        0        0          0          1          0   \n",
       "1       1            2        0        0          0          1          0   \n",
       "3       2            4        0        0          0          1          0   \n",
       "4       1            4        1        0          0          1          0   \n",
       "5       1            3        0        0          0          1          0   \n",
       "\n",
       "   Month_June  Month_Mar  Month_May  Month_Nov  Month_Oct  Month_Sep  \\\n",
       "0           0          0          0          0          0          0   \n",
       "1           0          0          0          0          0          0   \n",
       "3           0          0          0          0          0          0   \n",
       "4           0          0          0          0          0          0   \n",
       "5           0          0          0          0          0          0   \n",
       "\n",
       "   VisitorType_Other  VisitorType_Returning_Visitor  \n",
       "0                  0                              1  \n",
       "1                  0                              1  \n",
       "3                  0                              1  \n",
       "4                  0                              1  \n",
       "5                  0                              1  "
      ]
     },
     "execution_count": 36,
     "metadata": {},
     "output_type": "execute_result"
    }
   ],
   "source": [
    "X_D = pd.get_dummies(XY,columns=['Month','VisitorType'],drop_first=True)\n",
    "X_D[:5]"
   ]
  },
  {
   "cell_type": "markdown",
   "metadata": {},
   "source": [
    "Creamos un dataframe sin columnas categóricas para graficar"
   ]
  },
  {
   "cell_type": "code",
   "execution_count": 37,
   "metadata": {},
   "outputs": [],
   "source": [
    "X_numeric = XY.drop(columns=['Month', 'VisitorType', 'Revenue'])"
   ]
  },
  {
   "cell_type": "markdown",
   "metadata": {},
   "source": [
    "Separamos nuestra target Y de las features X"
   ]
  },
  {
   "cell_type": "code",
   "execution_count": 38,
   "metadata": {},
   "outputs": [],
   "source": [
    "X = X_D.drop('Revenue', axis=1)\n",
    "y = X_D['Revenue']"
   ]
  },
  {
   "cell_type": "markdown",
   "metadata": {},
   "source": [
    "Gráficos"
   ]
  },
  {
   "cell_type": "code",
   "execution_count": 39,
   "metadata": {},
   "outputs": [
    {
     "data": {
      "image/png": "[encoded data removed]",
      "text/plain": [
       "<Figure size 1080x504 with 1 Axes>"
      ]
     },
     "metadata": {
      "needs_background": "light"
     },
     "output_type": "display_data"
    }
   ],
   "source": [
    "plt.figure(figsize=(15,7))\n",
    "ax = sns.boxplot(data=X)\n",
    "ax.set_xticklabels(ax.get_xticklabels(),rotation=90)\n",
    "plt.title(u'Representación de cajas de las variables independientes X')\n",
    "plt.ylabel('Valor de la variable normalizada')\n",
    "_ = plt.xlabel('Nombre de la variable')"
   ]
  },
  {
   "cell_type": "markdown",
   "metadata": {},
   "source": [
    "Todas las variables están concentradas en la parte baja del gráfico a excepción de 'ProductRelated_Duration'. Esta es una buena razón para estandarizar nuestros datos antes de entrenar nuestro modelo."
   ]
  },
  {
   "cell_type": "markdown",
   "metadata": {},
   "source": [
    "Detectación de Outlier en la variable 'ProductRelated_Duration', era la única columna con posibles outliers de acuerdo al gráfico"
   ]
  },
  {
   "cell_type": "code",
   "execution_count": 40,
   "metadata": {},
   "outputs": [],
   "source": [
    "q = X[\"ProductRelated_Duration\"].quantile(0.99)"
   ]
  },
  {
   "cell_type": "code",
   "execution_count": 41,
   "metadata": {},
   "outputs": [],
   "source": [
    "time_spent=X[X[\"ProductRelated_Duration\"] > q]"
   ]
  },
  {
   "cell_type": "code",
   "execution_count": 42,
   "metadata": {},
   "outputs": [],
   "source": [
    "time_spent_in_seconds = time_spent['ProductRelated_Duration'].mean()"
   ]
  },
  {
   "cell_type": "code",
   "execution_count": 43,
   "metadata": {},
   "outputs": [],
   "source": [
    "time_spent_in_hours = time_spent_in_seconds/3600 # Estas columnas están en segundos"
   ]
  },
  {
   "cell_type": "code",
   "execution_count": 44,
   "metadata": {},
   "outputs": [
    {
     "data": {
      "text/plain": [
       "3.59"
      ]
     },
     "execution_count": 44,
     "metadata": {},
     "output_type": "execute_result"
    }
   ],
   "source": [
    "round(time_spent_in_hours, 2)"
   ]
  },
  {
   "cell_type": "markdown",
   "metadata": {},
   "source": [
    "Podemos ver que la media del tiempo pasado en la página web de la tienda para el cuantil 0,01 mayor de 'ProductRelated_Duration' es 3,59 horas.\n",
    "Los outliers permanecerán en nuestro marco de datos."
   ]
  },
  {
   "cell_type": "markdown",
   "metadata": {},
   "source": [
    "Gráficos"
   ]
  },
  {
   "cell_type": "code",
   "execution_count": 45,
   "metadata": {},
   "outputs": [],
   "source": [
    "def relaciones_vs_target(X, Y, return_type='axes'):\n",
    "    '''\n",
    "    Función que representa gráficos de dispersión de las variables\n",
    "    en X en función a la variable Y\n",
    "    '''\n",
    "    fig_tot = (len(X_numeric.columns))\n",
    "    fig_por_fila = 4.\n",
    "    tamanio_fig = 4.\n",
    "    num_filas = int( np.ceil(fig_tot/fig_por_fila) )    \n",
    "    plt.figure( figsize=( fig_por_fila*tamanio_fig+5, num_filas*tamanio_fig+5 ) )\n",
    "    c = 0 \n",
    "    for i, col in enumerate(X.columns):\n",
    "        plt.subplot(num_filas, fig_por_fila, i+1)\n",
    "        sns.scatterplot(x=X_numeric[col], y=Y)\n",
    "        plt.title( '%s vs %s' % (col, 'target') )\n",
    "        plt.ylabel('Target')\n",
    "        plt.xlabel(col)\n",
    "    plt.show()\n",
    "\n",
    "def represento_doble_hist(x_1, x_0, n_bins=11, title='', label_1='Clase 1', \n",
    "                          label_0='Clase 0', density=0):\n",
    "    '''\n",
    "    Función que recibe dos distribuciones de probabilidad y las representa\n",
    "    en el mismo gráfico\n",
    "    '''\n",
    "    bins = n_bins\n",
    "    plt.hist(x_1, bins, density = density, alpha=0.5, label=label_1, color='red')    \n",
    "    plt.hist(x_0, bins, density = density, alpha=0.5, label=label_0, color='green')\n",
    "    plt.title(title)\n",
    "    plt.legend(loc='best') \n",
    "\n",
    "def hist_pos_neg_feat(x, y, density=0, nbins=11, targets=(0,1)):\n",
    "    '''\n",
    "    Representa las variables en x divididas en dos distribuciones\n",
    "    según su valor de y sea 1 o 0\n",
    "    '''\n",
    "    fig_tot = len(x.columns)\n",
    "    fig_tot_fila = 3.; fig_tamanio = 5.\n",
    "    num_filas = int( np.ceil(fig_tot/fig_tot_fila) )\n",
    "    plt.figure( figsize=( fig_tot_fila*fig_tamanio+2, num_filas*fig_tamanio+2 ) )\n",
    "    target_neg, target_pos = targets\n",
    "    for i, feat in enumerate(x.columns):\n",
    "        plt.subplot(num_filas, fig_tot_fila, i+1);\n",
    "        plt.title('%s' % feat)\n",
    "        idx_pos = y == target_pos\n",
    "        idx_neg= y == target_neg\n",
    "        represento_doble_hist(x[feat][idx_pos].values, x[feat][idx_neg].values, nbins, \n",
    "                   density = density, title=('%s' % feat))"
   ]
  },
  {
   "cell_type": "code",
   "execution_count": 46,
   "metadata": {},
   "outputs": [
    {
     "data": {
      "image/png": "[encoded data removed]",
      "text/plain": [
       "<Figure size 1224x3384 with 26 Axes>"
      ]
     },
     "metadata": {
      "needs_background": "light"
     },
     "output_type": "display_data"
    }
   ],
   "source": [
    "hist_pos_neg_feat(X,y)"
   ]
  },
  {
   "cell_type": "markdown",
   "metadata": {},
   "source": [
    "En relación a estos gráficos, podemos ver que los clientes que realizan una compra a través de la página web, están distribuidos uniformemente dentro de nuestros datos. "
   ]
  },
  {
   "cell_type": "code",
   "execution_count": 47,
   "metadata": {},
   "outputs": [
    {
     "data": {
      "image/png": "[encoded data removed]",
      "text/plain": [
       "<Figure size 648x648 with 2 Axes>"
      ]
     },
     "metadata": {
      "needs_background": "light"
     },
     "output_type": "display_data"
    }
   ],
   "source": [
    "matriz_correlaciones = X_numeric.corr(method='pearson')\n",
    "n_ticks = len(X_numeric.columns)\n",
    "plt.figure( figsize=(9, 9) )\n",
    "plt.xticks(range(n_ticks), X_numeric.columns, rotation='vertical')\n",
    "plt.yticks(range(n_ticks), X_numeric.columns)\n",
    "plt.colorbar(plt.imshow(matriz_correlaciones, interpolation='nearest', \n",
    "                            vmin=-1., vmax=1., \n",
    "                            cmap=plt.get_cmap('Blues')))\n",
    "_ = plt.title('Matriz de correlaciones de Pearson')"
   ]
  },
  {
   "cell_type": "code",
   "execution_count": 48,
   "metadata": {},
   "outputs": [
    {
     "data": {
      "image/png": "[encoded data removed]",
      "text/plain": [
       "<Figure size 432x288 with 1 Axes>"
      ]
     },
     "metadata": {
      "needs_background": "light"
     },
     "output_type": "display_data"
    }
   ],
   "source": [
    "# Correlation con los ingresos 'Revenue'\n",
    "data_corr = XY.corr()['Revenue'] \n",
    "sns.barplot(data_corr[0:-1].index,data_corr[0:-1].values).set_title('Correlación con los ingresos')\n",
    "plt.xticks(rotation = 90)\n",
    "plt.show()"
   ]
  },
  {
   "cell_type": "markdown",
   "metadata": {},
   "source": [
    "Como resultado, los valores de página tienen la correlación más alta (alrededor de 0,5) con los ingresos en comparación con todas las demás características."
   ]
  },
  {
   "cell_type": "code",
   "execution_count": 49,
   "metadata": {
    "scrolled": true
   },
   "outputs": [
    {
     "name": "stderr",
     "output_type": "stream",
     "text": [
      "No handles with labels found to put in legend.\n",
      "No handles with labels found to put in legend.\n",
      "No handles with labels found to put in legend.\n"
     ]
    },
    {
     "data": {
      "image/png": "[encoded data removed]",
      "text/plain": [
       "<Figure size 1224x720 with 7 Axes>"
      ]
     },
     "metadata": {},
     "output_type": "display_data"
    }
   ],
   "source": [
    "# Vamos a ver el ratio de Revenue con cada tipo\n",
    "plt.style.use('fivethirtyeight')\n",
    "fig,ax = plt.subplots(nrows = 2, ncols = 4,figsize = (17,10))\n",
    "fig.tight_layout(pad = 3)\n",
    "\n",
    "\n",
    "adm_rev = XY[['Administrative','Revenue']]\n",
    "rev_p1 = pd.DataFrame(XY.groupby('Revenue')['Administrative'].sum()).T\n",
    "rev_p1.plot.bar(stacked=True,ax=ax[0,0])\n",
    "ax[0,0].set_xticklabels(['Administrative'], rotation=360)\n",
    "plt.legend(loc='best')\n",
    "\n",
    "\n",
    "info_rev = XY[['Informational','Revenue']]\n",
    "rev_p2 = pd.DataFrame(XY.groupby('Revenue')['Informational'].sum()).T\n",
    "rev_p2.plot.bar(stacked=True,ax = ax[0,1],color = ['black','white'])\n",
    "ax[0,1].set_xticklabels(['Informational'], rotation=360)\n",
    "plt.legend(loc='best')\n",
    "\n",
    "info_rev = XY[['ProductRelated','Revenue']]\n",
    "rev_p2 = pd.DataFrame(XY.groupby('Revenue')['ProductRelated'].sum()).T\n",
    "rev_p2.plot.bar(stacked=True,ax = ax[0,2],color = ['purple','red'])\n",
    "ax[0,2].set_xticklabels(['ProductRelated'], rotation=360)\n",
    "plt.legend(loc='best')\n",
    "\n",
    "\n",
    "\n",
    "info_rev = XY[['OperatingSystems','Revenue']]\n",
    "rev_p2 = pd.DataFrame(XY.groupby('Revenue')['OperatingSystems'].sum()).T\n",
    "rev_p2.plot.bar(stacked=True,ax = ax[0,3],color = ['green','yellow'])\n",
    "ax[0,3].set_xticklabels(['OperatingSystems'], rotation=360)\n",
    "\n",
    "\n",
    "info_rev = XY[['Browser','Revenue']]\n",
    "rev_p2 = pd.DataFrame(XY.groupby('Revenue')['Browser'].sum()).T\n",
    "rev_p2.plot.bar(stacked=True,ax = ax[1,0],color = ['navy','orange'])\n",
    "ax[1,0].set_xticklabels(['Browser'], rotation=360)\n",
    "\n",
    "\n",
    "info_rev = XY[['Region','Revenue']]\n",
    "rev_p2 = pd.DataFrame(XY.groupby('Revenue')['Region'].sum()).T\n",
    "rev_p2.plot.bar(stacked=True,ax = ax[1,1],color = ['black','red'])\n",
    "ax[1,1].set_xticklabels(['Region'], rotation=360)\n",
    "\n",
    "\n",
    "info_rev = XY[['TrafficType','Revenue']]\n",
    "rev_p2 = pd.DataFrame(XY.groupby('Revenue')['TrafficType'].sum()).T\n",
    "rev_p2.plot.bar(stacked=True,ax = ax[1,2],color = ['blue','green'])\n",
    "ax[1,2].set_xticklabels(['TrafficType'], rotation=360)\n",
    "\n",
    "fig.delaxes(ax[1,3])"
   ]
  },
  {
   "cell_type": "markdown",
   "metadata": {},
   "source": [
    "'Administrative', 'Informational' y 'ProductRelated' son las variables que más relación presentan con 'Revenue'"
   ]
  },
  {
   "cell_type": "markdown",
   "metadata": {},
   "source": [
    "Estandarización de los datos"
   ]
  },
  {
   "cell_type": "code",
   "execution_count": 50,
   "metadata": {},
   "outputs": [],
   "source": [
    "obj_escalar = StandardScaler()\n",
    "X_estandarizado = obj_escalar.fit_transform(X_D)"
   ]
  },
  {
   "cell_type": "code",
   "execution_count": 51,
   "metadata": {},
   "outputs": [
    {
     "data": {
      "text/plain": [
       "array([[-0.6989074 , -0.45823768, -0.39724702, ..., -0.19456059,\n",
       "        -0.08347668,  0.41153864],\n",
       "       [-0.6989074 , -0.45823768, -0.39724702, ..., -0.19456059,\n",
       "        -0.08347668,  0.41153864],\n",
       "       [-0.6989074 , -0.45823768, -0.39724702, ..., -0.19456059,\n",
       "        -0.08347668,  0.41153864],\n",
       "       ...,\n",
       "       [-0.6989074 , -0.45823768, -0.39724702, ..., -0.19456059,\n",
       "        -0.08347668,  0.41153864],\n",
       "       [ 0.50410263, -0.03460371, -0.39724702, ..., -0.19456059,\n",
       "        -0.08347668,  0.41153864],\n",
       "       [-0.6989074 , -0.45823768, -0.39724702, ..., -0.19456059,\n",
       "        -0.08347668, -2.42990549]])"
      ]
     },
     "execution_count": 51,
     "metadata": {},
     "output_type": "execute_result"
    }
   ],
   "source": [
    "X_estandarizado"
   ]
  },
  {
   "cell_type": "markdown",
   "metadata": {},
   "source": [
    "Ahora dividimos nuestro dataframe en entrenar y testear para empezar a aplicar modelos"
   ]
  },
  {
   "cell_type": "code",
   "execution_count": 52,
   "metadata": {},
   "outputs": [],
   "source": [
    "X_train, X_test, Y_train, Y_test = train_test_split(X, y, test_size=0.2, random_state=1234)"
   ]
  },
  {
   "cell_type": "markdown",
   "metadata": {},
   "source": [
    "Ahora comenzaremos a entrenar tres modelos de ML con el objetivo de encontrar el que mejor se nos ajuste"
   ]
  },
  {
   "cell_type": "markdown",
   "metadata": {},
   "source": [
    "- Regresión Lógica"
   ]
  },
  {
   "cell_type": "markdown",
   "metadata": {},
   "source": [
    "GridSearchCV es un código muy útil para nuestro modelo de ML ya que nos permite encontrar la mejor combinación de parámetros"
   ]
  },
  {
   "cell_type": "code",
   "execution_count": 53,
   "metadata": {},
   "outputs": [],
   "source": [
    "modelo1 = LogisticRegression()\n",
    "parametros = {\"C\": [0.001, 0.008, 0.01, 0.02, 0.03, 0.04, 0.05, 0.06], \n",
    "              \"class_weight\":['balanced', None]}"
   ]
  },
  {
   "cell_type": "code",
   "execution_count": 54,
   "metadata": {},
   "outputs": [
    {
     "data": {
      "text/plain": [
       "GridSearchCV(cv=5, estimator=LogisticRegression(),\n",
       "             param_grid={'C': [0.001, 0.008, 0.01, 0.02, 0.03, 0.04, 0.05,\n",
       "                               0.06],\n",
       "                         'class_weight': ['balanced', None]},\n",
       "             scoring='roc_auc')"
      ]
     },
     "execution_count": 54,
     "metadata": {},
     "output_type": "execute_result"
    }
   ],
   "source": [
    "modelo_gs = GridSearchCV(modelo1, param_grid=parametros,\n",
    "                         cv = 5, scoring='roc_auc')\n",
    "modelo_gs.fit(X_train, Y_train)"
   ]
  },
  {
   "cell_type": "code",
   "execution_count": 55,
   "metadata": {},
   "outputs": [
    {
     "name": "stdout",
     "output_type": "stream",
     "text": [
      "{'C': 0.02, 'class_weight': 'balanced'} \n",
      "ROC AUC: 0.88\n"
     ]
    }
   ],
   "source": [
    "print(modelo_gs.best_params_, \"\\nROC AUC: {}\".format(round(modelo_gs.best_score_,2)))"
   ]
  },
  {
   "cell_type": "markdown",
   "metadata": {},
   "source": [
    "0,88 ROC AUC es un muy buen resultado"
   ]
  },
  {
   "cell_type": "code",
   "execution_count": 56,
   "metadata": {},
   "outputs": [],
   "source": [
    "df_search = pd.DataFrame.from_dict(modelo_gs.cv_results_)"
   ]
  },
  {
   "cell_type": "code",
   "execution_count": 57,
   "metadata": {},
   "outputs": [
    {
     "data": {
      "image/png": "[encoded data removed]",
      "text/plain": [
       "<Figure size 432x288 with 1 Axes>"
      ]
     },
     "metadata": {},
     "output_type": "display_data"
    }
   ],
   "source": [
    "plt.xlabel('C')\n",
    "plt.ylabel('roc_auc')\n",
    "_ = plt.plot( df_search['param_C'], df_search['mean_test_score'], '.')"
   ]
  },
  {
   "cell_type": "markdown",
   "metadata": {},
   "source": [
    "Analizando el modelo con el mejor alpha. En este paso nos quedamos con los mejores parámetros obtenidos en el paso anterior"
   ]
  },
  {
   "cell_type": "code",
   "execution_count": 58,
   "metadata": {},
   "outputs": [],
   "source": [
    "reg_log =  LogisticRegression(C=modelo_gs.best_params_['C'],\n",
    "                              class_weight=modelo_gs.best_params_['class_weight'])"
   ]
  },
  {
   "cell_type": "markdown",
   "metadata": {},
   "source": [
    "Finalmente entrenamos nuestro modelo con los mejores parámetros que GridSearch nos ha dado"
   ]
  },
  {
   "cell_type": "code",
   "execution_count": 59,
   "metadata": {},
   "outputs": [
    {
     "data": {
      "text/plain": [
       "LogisticRegression(C=0.02, class_weight='balanced')"
      ]
     },
     "execution_count": 59,
     "metadata": {},
     "output_type": "execute_result"
    }
   ],
   "source": [
    "reg_log.fit(X_train, Y_train)"
   ]
  },
  {
   "cell_type": "markdown",
   "metadata": {},
   "source": [
    "Aquí es cuando el test comienza. Con este modelo optimizado, predecimos los test para ver cómo se comporta con datos que no ha visto antes"
   ]
  },
  {
   "cell_type": "code",
   "execution_count": 60,
   "metadata": {},
   "outputs": [],
   "source": [
    "y_test_pred_prob = reg_log.predict_proba(X_test)\n",
    "y_test_pred_prob_pos = y_test_pred_prob[np.where(Y_test == 1)[0]]\n",
    "y_test_pred_prob_neg = y_test_pred_prob[np.where(Y_test == 0)[0]]"
   ]
  },
  {
   "cell_type": "code",
   "execution_count": 61,
   "metadata": {},
   "outputs": [
    {
     "data": {
      "image/png": "[encoded data removed]",
      "text/plain": [
       "<Figure size 720x504 with 1 Axes>"
      ]
     },
     "metadata": {},
     "output_type": "display_data"
    }
   ],
   "source": [
    "preds = y_test_pred_prob[:,1]\n",
    "fpr, tpr, threshold = metrics.roc_curve(Y_test, preds)\n",
    "roc_auc = metrics.auc(fpr, tpr)\n",
    "\n",
    "plt.figure(figsize=(10,7))\n",
    "plt.title('Receiver Operating Characteristic')\n",
    "plt.plot(fpr, tpr, 'b', label = 'AUC = %0.2f' % roc_auc)\n",
    "plt.legend(loc = 'lower right')\n",
    "plt.plot([0, 1], [0, 1],'r--')\n",
    "plt.xlim([0, 1])\n",
    "plt.ylim([0, 1])\n",
    "plt.ylabel('True Positive Rate')\n",
    "plt.xlabel('False Positive Rate')\n",
    "plt.show()"
   ]
  },
  {
   "cell_type": "code",
   "execution_count": 62,
   "metadata": {},
   "outputs": [
    {
     "data": {
      "image/png": "[encoded data removed]",
      "text/plain": [
       "<Figure size 432x288 with 1 Axes>"
      ]
     },
     "metadata": {},
     "output_type": "display_data"
    }
   ],
   "source": [
    "represento_doble_hist(y_test_pred_prob_pos[:, 1], y_test_pred_prob_neg[:, 1], n_bins=21, density=0)"
   ]
  },
  {
   "cell_type": "markdown",
   "metadata": {},
   "source": [
    "Esta figura representa en verde las probabilidades que asigna el modelo a los datos que son 0 (cuanto más cerca de 0 la distribución verde mejor) y en rojo las probabilidades asignadas a los datos que son 1 (cuanto más cerca esté de 1 la distribución roja mejor)."
   ]
  },
  {
   "cell_type": "markdown",
   "metadata": {},
   "source": [
    "Tenemos que elegir el umbral para separar nuestros resultados, que son valores continuos, en una opción binaria de Sí o No (1 o 0) sobre la probabilidad de ingresos."
   ]
  },
  {
   "cell_type": "code",
   "execution_count": 63,
   "metadata": {},
   "outputs": [],
   "source": [
    "umbral = 0.6\n",
    "y_umbralizadas = 1*(y_test_pred_prob[:, 1] > umbral)"
   ]
  },
  {
   "cell_type": "code",
   "execution_count": 64,
   "metadata": {},
   "outputs": [
    {
     "name": "stdout",
     "output_type": "stream",
     "text": [
      "Matriz de confusión\n",
      " [[1913  142]\n",
      " [ 143  259]]\n",
      "\n",
      "Accuracy\t0.88\n",
      "Sensitividad\t0.64\n",
      "Precisión\t0.65\n"
     ]
    }
   ],
   "source": [
    "print(u\"Matriz de confusión\\n\", metrics.confusion_matrix(Y_test, y_umbralizadas))\n",
    "print(\"\\nAccuracy\\t{}\".format(round(metrics.accuracy_score(Y_test, y_umbralizadas),2)))  \n",
    "print(\"Sensitividad\\t{}\".format(round(metrics.recall_score(Y_test, y_umbralizadas),2)))\n",
    "print(u\"Precisión\\t{}\".format(round(metrics.precision_score(Y_test, y_umbralizadas),2)))    "
   ]
  },
  {
   "cell_type": "code",
   "execution_count": 65,
   "metadata": {},
   "outputs": [],
   "source": [
    "umbral = 0.7\n",
    "y_umbralizadas = 1*(y_test_pred_prob[:, 1] > umbral)"
   ]
  },
  {
   "cell_type": "code",
   "execution_count": 66,
   "metadata": {},
   "outputs": [
    {
     "name": "stdout",
     "output_type": "stream",
     "text": [
      "Matriz de confusión\n",
      " [[1955  100]\n",
      " [ 173  229]]\n",
      "\n",
      "Accuracy\t0.89\n",
      "Sensitividad\t0.57\n",
      "Precisión\t0.7\n"
     ]
    }
   ],
   "source": [
    "print(u\"Matriz de confusión\\n\", metrics.confusion_matrix(Y_test, y_umbralizadas))\n",
    "print(\"\\nAccuracy\\t{}\".format(round(metrics.accuracy_score(Y_test, y_umbralizadas),2)))  \n",
    "print(\"Sensitividad\\t{}\".format(round(metrics.recall_score(Y_test, y_umbralizadas),2)))\n",
    "print(u\"Precisión\\t{}\".format(round(metrics.precision_score(Y_test, y_umbralizadas),2))) "
   ]
  },
  {
   "cell_type": "markdown",
   "metadata": {},
   "source": [
    "Finalmente mantenemos en 0,7 el umbral porque nos da el mejor rendimiento"
   ]
  },
  {
   "cell_type": "markdown",
   "metadata": {},
   "source": [
    "- Redes Neurológicas"
   ]
  },
  {
   "cell_type": "code",
   "execution_count": 67,
   "metadata": {},
   "outputs": [],
   "source": [
    "modelo = MLPClassifier()\n",
    "parametros = {'solver': ['lbfgs'], \n",
    "              'max_iter': [300,500, 800, 1000], # Iteraciones máximas en cada red\n",
    "              'alpha': 10.0 ** -np.arange(0.5, 2), # Parámetro de regularización L2 para evitar sobreajuste\n",
    "              'hidden_layer_sizes':np.arange(10, 35), # Número de neuronas en cada capa\n",
    "              'random_state':[0]}"
   ]
  },
  {
   "cell_type": "code",
   "execution_count": 68,
   "metadata": {},
   "outputs": [
    {
     "name": "stdout",
     "output_type": "stream",
     "text": [
      "Fitting 3 folds for each of 200 candidates, totalling 600 fits\n"
     ]
    },
    {
     "name": "stderr",
     "output_type": "stream",
     "text": [
      "[Parallel(n_jobs=-1)]: Using backend LokyBackend with 4 concurrent workers.\n",
      "[Parallel(n_jobs=-1)]: Done   5 tasks      | elapsed:   10.5s\n",
      "[Parallel(n_jobs=-1)]: Done  10 tasks      | elapsed:   15.5s\n",
      "[Parallel(n_jobs=-1)]: Done  17 tasks      | elapsed:   23.1s\n",
      "[Parallel(n_jobs=-1)]: Done  24 tasks      | elapsed:   27.0s\n",
      "[Parallel(n_jobs=-1)]: Done  33 tasks      | elapsed:   29.4s\n",
      "[Parallel(n_jobs=-1)]: Done  42 tasks      | elapsed:   33.0s\n",
      "[Parallel(n_jobs=-1)]: Done  53 tasks      | elapsed:   47.3s\n",
      "[Parallel(n_jobs=-1)]: Done  64 tasks      | elapsed:  1.1min\n",
      "[Parallel(n_jobs=-1)]: Done  77 tasks      | elapsed:  1.6min\n",
      "[Parallel(n_jobs=-1)]: Done  90 tasks      | elapsed:  2.2min\n",
      "[Parallel(n_jobs=-1)]: Done 105 tasks      | elapsed:  2.7min\n",
      "[Parallel(n_jobs=-1)]: Done 120 tasks      | elapsed:  3.0min\n",
      "[Parallel(n_jobs=-1)]: Done 137 tasks      | elapsed:  3.2min\n",
      "[Parallel(n_jobs=-1)]: Done 154 tasks      | elapsed:  3.6min\n",
      "[Parallel(n_jobs=-1)]: Done 173 tasks      | elapsed:  4.8min\n",
      "[Parallel(n_jobs=-1)]: Done 192 tasks      | elapsed:  6.2min\n",
      "[Parallel(n_jobs=-1)]: Done 213 tasks      | elapsed:  7.1min\n",
      "[Parallel(n_jobs=-1)]: Done 234 tasks      | elapsed:  8.1min\n",
      "[Parallel(n_jobs=-1)]: Done 257 tasks      | elapsed:  8.2min\n",
      "[Parallel(n_jobs=-1)]: Done 280 tasks      | elapsed:  9.4min\n",
      "[Parallel(n_jobs=-1)]: Done 305 tasks      | elapsed: 11.3min\n",
      "[Parallel(n_jobs=-1)]: Done 330 tasks      | elapsed: 11.7min\n",
      "[Parallel(n_jobs=-1)]: Done 357 tasks      | elapsed: 12.1min\n",
      "[Parallel(n_jobs=-1)]: Done 384 tasks      | elapsed: 13.2min\n",
      "[Parallel(n_jobs=-1)]: Done 413 tasks      | elapsed: 14.3min\n",
      "[Parallel(n_jobs=-1)]: Done 442 tasks      | elapsed: 14.6min\n",
      "[Parallel(n_jobs=-1)]: Done 473 tasks      | elapsed: 15.9min\n",
      "[Parallel(n_jobs=-1)]: Done 504 tasks      | elapsed: 17.4min\n",
      "[Parallel(n_jobs=-1)]: Done 537 tasks      | elapsed: 18.7min\n",
      "[Parallel(n_jobs=-1)]: Done 570 tasks      | elapsed: 19.6min\n",
      "[Parallel(n_jobs=-1)]: Done 600 out of 600 | elapsed: 22.1min finished\n"
     ]
    },
    {
     "data": {
      "text/plain": [
       "GridSearchCV(cv=3, estimator=MLPClassifier(), n_jobs=-1,\n",
       "             param_grid={'alpha': array([0.31622777, 0.03162278]),\n",
       "                         'hidden_layer_sizes': array([10, 11, 12, 13, 14, 15, 16, 17, 18, 19, 20, 21, 22, 23, 24, 25, 26,\n",
       "       27, 28, 29, 30, 31, 32, 33, 34]),\n",
       "                         'max_iter': [300, 500, 800, 1000], 'random_state': [0],\n",
       "                         'solver': ['lbfgs']},\n",
       "             scoring='roc_auc', verbose=10)"
      ]
     },
     "execution_count": 68,
     "metadata": {},
     "output_type": "execute_result"
    }
   ],
   "source": [
    "modelo_gs2 = GridSearchCV(modelo, param_grid=parametros, cv = 3, \n",
    "                         scoring='roc_auc', n_jobs=-1, verbose=10)\n",
    "modelo_gs2.fit(X_train, Y_train)"
   ]
  },
  {
   "cell_type": "markdown",
   "metadata": {},
   "source": [
    "En este caso para GridSearch el max_iter fue 500, y obtenemos que este parámetro fue el mejor. Ajustamos GridSearch para probar con el más alto max_iter y mirar si nuestro modelo mejora"
   ]
  },
  {
   "cell_type": "code",
   "execution_count": 69,
   "metadata": {},
   "outputs": [
    {
     "name": "stdout",
     "output_type": "stream",
     "text": [
      "{'alpha': 0.31622776601683794, 'hidden_layer_sizes': 24, 'max_iter': 800, 'random_state': 0, 'solver': 'lbfgs'} \n",
      "ROC AUC: 0.9\n"
     ]
    }
   ],
   "source": [
    "print(modelo_gs2.best_params_, \"\\nROC AUC: {}\".format(round(modelo_gs2.best_score_,2)))"
   ]
  },
  {
   "cell_type": "markdown",
   "metadata": {},
   "source": [
    "Como podemos ver, el ROC AUC mejora con el max_iter que dimos de nuevo. Primero lo chequeo con el test df para ver si también obtenemos la misma mejora o en el peor de los casos obtenemos un sobreajuste"
   ]
  },
  {
   "cell_type": "code",
   "execution_count": 70,
   "metadata": {},
   "outputs": [
    {
     "name": "stdout",
     "output_type": "stream",
     "text": [
      "{'alpha': 0.31622776601683794, 'hidden_layer_sizes': 24, 'max_iter': 800, 'random_state': 0, 'solver': 'lbfgs'} \n",
      "ROC AUC: 0.9\n"
     ]
    }
   ],
   "source": [
    "print(modelo_gs2.best_params_, \"\\nROC AUC: {}\".format(round(modelo_gs2.best_score_,2)))"
   ]
  },
  {
   "cell_type": "markdown",
   "metadata": {},
   "source": [
    "- Mejores parámetros"
   ]
  },
  {
   "cell_type": "markdown",
   "metadata": {},
   "source": [
    "Como en los otros modelos, obtenemos los mejores parámetros encontrados y ajustamos un modelo con esos parámetros:"
   ]
  },
  {
   "cell_type": "code",
   "execution_count": 71,
   "metadata": {},
   "outputs": [],
   "source": [
    "mejor_modelo = MLPClassifier(**modelo_gs2.best_params_, verbose=10)"
   ]
  },
  {
   "cell_type": "code",
   "execution_count": 72,
   "metadata": {},
   "outputs": [
    {
     "data": {
      "text/plain": [
       "MLPClassifier(alpha=0.31622776601683794, hidden_layer_sizes=24, max_iter=800,\n",
       "              random_state=0, solver='lbfgs', verbose=10)"
      ]
     },
     "execution_count": 72,
     "metadata": {},
     "output_type": "execute_result"
    }
   ],
   "source": [
    "mejor_modelo.fit(X_train, Y_train)"
   ]
  },
  {
   "cell_type": "code",
   "execution_count": 73,
   "metadata": {},
   "outputs": [],
   "source": [
    "y_test_pred_prob = mejor_modelo.predict_proba(X_test) \n",
    "y_test_pred_prob_pos = y_test_pred_prob[np.where(Y_test == 1)[0]]\n",
    "y_test_pred_prob_neg = y_test_pred_prob[np.where(Y_test == 0)[0]]"
   ]
  },
  {
   "cell_type": "code",
   "execution_count": 74,
   "metadata": {},
   "outputs": [
    {
     "data": {
      "image/png": "[encoded data removed]",
      "text/plain": [
       "<Figure size 720x504 with 1 Axes>"
      ]
     },
     "metadata": {},
     "output_type": "display_data"
    }
   ],
   "source": [
    "preds = y_test_pred_prob[:,1]\n",
    "fpr, tpr, threshold = metrics.roc_curve(Y_test, preds)\n",
    "roc_auc = metrics.auc(fpr, tpr)\n",
    "\n",
    "plt.figure(figsize=(10,7))\n",
    "plt.title('Receiver Operating Characteristic')\n",
    "plt.plot(fpr, tpr, 'b', label = 'AUC = %0.2f' % roc_auc)\n",
    "plt.legend(loc = 'lower right')\n",
    "plt.plot([0, 1], [0, 1],'r--')\n",
    "plt.xlim([0, 1])\n",
    "plt.ylim([0, 1])\n",
    "plt.ylabel('True Positive Rate')\n",
    "plt.xlabel('False Positive Rate')\n",
    "plt.show()"
   ]
  },
  {
   "cell_type": "code",
   "execution_count": 75,
   "metadata": {},
   "outputs": [
    {
     "data": {
      "image/png": "[encoded data removed]",
      "text/plain": [
       "<Figure size 432x288 with 1 Axes>"
      ]
     },
     "metadata": {},
     "output_type": "display_data"
    }
   ],
   "source": [
    "represento_doble_hist(y_test_pred_prob_pos[:, 1], y_test_pred_prob_neg[:, 1], n_bins=21, density=0)"
   ]
  },
  {
   "cell_type": "code",
   "execution_count": 76,
   "metadata": {},
   "outputs": [],
   "source": [
    "umbral = 0.5\n",
    "y_umbralizadas = 1*(y_test_pred_prob[:, 1] > umbral)"
   ]
  },
  {
   "cell_type": "code",
   "execution_count": 77,
   "metadata": {},
   "outputs": [
    {
     "name": "stdout",
     "output_type": "stream",
     "text": [
      "Matriz de confusión\n",
      " [[1994   61]\n",
      " [ 229  173]]\n",
      "\n",
      "Accuracy\t0.88\n",
      "Sensitividad\t0.43\n",
      "Precisión\t0.74\n"
     ]
    }
   ],
   "source": [
    "print(u\"Matriz de confusión\\n\", metrics.confusion_matrix(Y_test, y_umbralizadas))\n",
    "print(\"\\nAccuracy\\t{}\".format(round(metrics.accuracy_score(Y_test, y_umbralizadas),2)))  \n",
    "print(\"Sensitividad\\t{}\".format(round(metrics.recall_score(Y_test, y_umbralizadas),2)))\n",
    "print(u\"Precisión\\t{}\".format(round(metrics.precision_score(Y_test, y_umbralizadas),2)))  "
   ]
  },
  {
   "cell_type": "markdown",
   "metadata": {},
   "source": [
    "Modificando el max_iter de 500 a 1000, mejora el modelo pero solo en el train df. Se ha mantenido el 0,88 de precisión"
   ]
  },
  {
   "cell_type": "markdown",
   "metadata": {},
   "source": [
    "- Random Forest Classifier"
   ]
  },
  {
   "cell_type": "code",
   "execution_count": 78,
   "metadata": {},
   "outputs": [],
   "source": [
    "rfclf = RandomForestClassifier(n_estimators = 30,max_depth = 10,random_state = 101)"
   ]
  },
  {
   "cell_type": "code",
   "execution_count": 79,
   "metadata": {},
   "outputs": [
    {
     "name": "stdout",
     "output_type": "stream",
     "text": [
      "              precision    recall  f1-score   support\n",
      "\n",
      "           0       0.91      0.97      0.94      2055\n",
      "           1       0.80      0.53      0.64       402\n",
      "\n",
      "    accuracy                           0.90      2457\n",
      "   macro avg       0.86      0.75      0.79      2457\n",
      "weighted avg       0.90      0.90      0.89      2457\n",
      "\n"
     ]
    }
   ],
   "source": [
    "rfclf.fit(X_train,Y_train)\n",
    "pred = rfclf.predict(X_test)\n",
    "print(classification_report(Y_test,pred))"
   ]
  },
  {
   "cell_type": "markdown",
   "metadata": {},
   "source": [
    "Optimizamos Random Forest Classifier utilizando Gridsearch"
   ]
  },
  {
   "cell_type": "code",
   "execution_count": 80,
   "metadata": {},
   "outputs": [
    {
     "name": "stdout",
     "output_type": "stream",
     "text": [
      "Fitting 5 folds for each of 16 candidates, totalling 80 fits\n"
     ]
    },
    {
     "name": "stderr",
     "output_type": "stream",
     "text": [
      "[Parallel(n_jobs=1)]: Using backend SequentialBackend with 1 concurrent workers.\n",
      "[Parallel(n_jobs=1)]: Done  80 out of  80 | elapsed:  1.7min finished\n"
     ]
    },
    {
     "data": {
      "text/plain": [
       "GridSearchCV(estimator=RandomForestClassifier(max_depth=10, n_estimators=30,\n",
       "                                              random_state=101),\n",
       "             param_grid={'max_depth': [10, 15], 'min_samples_leaf': [2, 3],\n",
       "                         'min_samples_split': [2, 4],\n",
       "                         'n_estimators': [80, 100]},\n",
       "             verbose=1)"
      ]
     },
     "execution_count": 80,
     "metadata": {},
     "output_type": "execute_result"
    }
   ],
   "source": [
    "param_grid = {\n",
    "    'n_estimators' : [80,100],\n",
    "    'max_depth' : [10,15],\n",
    "    'min_samples_leaf' : [2,3],\n",
    "    'min_samples_split': [2,4]\n",
    "}\n",
    "\n",
    "gridsearch = GridSearchCV(estimator=rfclf,param_grid=param_grid,verbose = 1)\n",
    "gridsearch.fit(X_train,Y_train)"
   ]
  },
  {
   "cell_type": "code",
   "execution_count": 81,
   "metadata": {},
   "outputs": [
    {
     "data": {
      "text/plain": [
       "{'max_depth': 10,\n",
       " 'min_samples_leaf': 3,\n",
       " 'min_samples_split': 2,\n",
       " 'n_estimators': 100}"
      ]
     },
     "execution_count": 81,
     "metadata": {},
     "output_type": "execute_result"
    }
   ],
   "source": [
    "gridsearch.best_params_"
   ]
  },
  {
   "cell_type": "code",
   "execution_count": 82,
   "metadata": {},
   "outputs": [
    {
     "name": "stdout",
     "output_type": "stream",
     "text": [
      "              precision    recall  f1-score   support\n",
      "\n",
      "           0       0.92      0.97      0.94      2055\n",
      "           1       0.81      0.55      0.65       402\n",
      "\n",
      "    accuracy                           0.90      2457\n",
      "   macro avg       0.86      0.76      0.80      2457\n",
      "weighted avg       0.90      0.90      0.90      2457\n",
      "\n"
     ]
    }
   ],
   "source": [
    "rfclf = RandomForestClassifier(n_estimators = 100,max_depth = 10,min_samples_leaf = 3, min_samples_split = 2,random_state = 101)\n",
    "rfclf.fit(X_train,Y_train)\n",
    "pred = rfclf.predict(X_test)\n",
    "print(classification_report(Y_test,pred))\n",
    "\n",
    "\n",
    "# 0 es False y 1 es True, la precisión de detectar True ha aumentado\n",
    "from sklearn.metrics import accuracy_score\n",
    "rfacc = accuracy_score(Y_test,pred)"
   ]
  },
  {
   "cell_type": "markdown",
   "metadata": {},
   "source": [
    "Finalmente hemos desarrollado los 3 modelos de ML para predecir si un visitante a la pagina web de una tienda realizará una compra o no, pero hasta donde hemos visto hasta ahora, nos surge el gran problema de que estos resultados no son fácilmente transformables en valor para el departamento de marketing o algún otro dentro de la compañia.\n",
    "\n",
    "Esto es debido a la característica de Black Box de la gran mayoría de los modelos utilizados, lo que se traduce en no poder extraer importantes insigths desde la aplicación de modelos de ML.\n",
    "\n",
    "Es en razón a lo anterior que se utilizaría finalmente la técnica de \"Permutation Importance\" para determinar cuál de todas nuestras features son las que entregan mayor aproximación a determinar si se realizará o no la compra."
   ]
  },
  {
   "cell_type": "markdown",
   "metadata": {},
   "source": [
    "En busca de la explicación de nuestro modelos:"
   ]
  },
  {
   "cell_type": "code",
   "execution_count": 85,
   "metadata": {},
   "outputs": [
    {
     "name": "stdout",
     "output_type": "stream",
     "text": [
      "Collecting eli5\n",
      "  Downloading eli5-0.11.0-py2.py3-none-any.whl (106 kB)\n",
      "Requirement already satisfied: numpy>=1.9.0 in c:\\users\\user\\anaconda3\\lib\\site-packages (from eli5) (1.18.5)\n",
      "Collecting graphviz\n",
      "  Downloading graphviz-0.16-py2.py3-none-any.whl (19 kB)\n",
      "Requirement already satisfied: six in c:\\users\\user\\anaconda3\\lib\\site-packages (from eli5) (1.15.0)\n",
      "Collecting tabulate>=0.7.7\n",
      "  Downloading tabulate-0.8.9-py3-none-any.whl (25 kB)\n",
      "Requirement already satisfied: scikit-learn>=0.20 in c:\\users\\user\\anaconda3\\lib\\site-packages (from eli5) (0.23.1)\n",
      "Requirement already satisfied: scipy in c:\\users\\user\\anaconda3\\lib\\site-packages (from eli5) (1.5.0)\n",
      "Requirement already satisfied: jinja2 in c:\\users\\user\\anaconda3\\lib\\site-packages (from eli5) (2.11.2)\n",
      "Requirement already satisfied: attrs>16.0.0 in c:\\users\\user\\anaconda3\\lib\\site-packages (from eli5) (19.3.0)\n",
      "Requirement already satisfied: threadpoolctl>=2.0.0 in c:\\users\\user\\anaconda3\\lib\\site-packages (from scikit-learn>=0.20->eli5) (2.1.0)\n",
      "Requirement already satisfied: joblib>=0.11 in c:\\users\\user\\anaconda3\\lib\\site-packages (from scikit-learn>=0.20->eli5) (0.16.0)\n",
      "Requirement already satisfied: MarkupSafe>=0.23 in c:\\users\\user\\anaconda3\\lib\\site-packages (from jinja2->eli5) (1.1.1)\n",
      "Installing collected packages: graphviz, tabulate, eli5\n",
      "Successfully installed eli5-0.11.0 graphviz-0.16 tabulate-0.8.9\n",
      "Note: you may need to restart the kernel to use updated packages.\n"
     ]
    }
   ],
   "source": [
    "pip install eli5"
   ]
  },
  {
   "cell_type": "code",
   "execution_count": 86,
   "metadata": {},
   "outputs": [
    {
     "data": {
      "text/html": [
       "\n",
       "    <style>\n",
       "    table.eli5-weights tr:hover {\n",
       "        filter: brightness(85%);\n",
       "    }\n",
       "</style>\n",
       "\n",
       "\n",
       "\n",
       "    \n",
       "\n",
       "    \n",
       "\n",
       "    \n",
       "\n",
       "    \n",
       "\n",
       "    \n",
       "\n",
       "    \n",
       "\n",
       "\n",
       "    \n",
       "\n",
       "    \n",
       "\n",
       "    \n",
       "\n",
       "    \n",
       "\n",
       "    \n",
       "\n",
       "    \n",
       "\n",
       "\n",
       "    \n",
       "\n",
       "    \n",
       "\n",
       "    \n",
       "\n",
       "    \n",
       "\n",
       "    \n",
       "        <table class=\"eli5-weights eli5-feature-importances\" style=\"border-collapse: collapse; border: none; margin-top: 0em; table-layout: auto;\">\n",
       "    <thead>\n",
       "    <tr style=\"border: none;\">\n",
       "        <th style=\"padding: 0 1em 0 0.5em; text-align: right; border: none;\">Weight</th>\n",
       "        <th style=\"padding: 0 0.5em 0 0.5em; text-align: left; border: none;\">Feature</th>\n",
       "    </tr>\n",
       "    </thead>\n",
       "    <tbody>\n",
       "    \n",
       "        <tr style=\"background-color: hsl(120, 100.00%, 80.00%); border: none;\">\n",
       "            <td style=\"padding: 0 1em 0 0.5em; text-align: right; border: none;\">\n",
       "                0.1351\n",
       "                \n",
       "                    &plusmn; 0.0076\n",
       "                \n",
       "            </td>\n",
       "            <td style=\"padding: 0 0.5em 0 0.5em; text-align: left; border: none;\">\n",
       "                PageValues\n",
       "            </td>\n",
       "        </tr>\n",
       "    \n",
       "        <tr style=\"background-color: hsl(120, 100.00%, 96.48%); border: none;\">\n",
       "            <td style=\"padding: 0 1em 0 0.5em; text-align: right; border: none;\">\n",
       "                0.0113\n",
       "                \n",
       "                    &plusmn; 0.0063\n",
       "                \n",
       "            </td>\n",
       "            <td style=\"padding: 0 0.5em 0 0.5em; text-align: left; border: none;\">\n",
       "                ExitRates\n",
       "            </td>\n",
       "        </tr>\n",
       "    \n",
       "        <tr style=\"background-color: hsl(120, 100.00%, 96.58%); border: none;\">\n",
       "            <td style=\"padding: 0 1em 0 0.5em; text-align: right; border: none;\">\n",
       "                0.0108\n",
       "                \n",
       "                    &plusmn; 0.0042\n",
       "                \n",
       "            </td>\n",
       "            <td style=\"padding: 0 0.5em 0 0.5em; text-align: left; border: none;\">\n",
       "                Month_Nov\n",
       "            </td>\n",
       "        </tr>\n",
       "    \n",
       "        <tr style=\"background-color: hsl(120, 100.00%, 97.12%); border: none;\">\n",
       "            <td style=\"padding: 0 1em 0 0.5em; text-align: right; border: none;\">\n",
       "                0.0085\n",
       "                \n",
       "                    &plusmn; 0.0038\n",
       "                \n",
       "            </td>\n",
       "            <td style=\"padding: 0 0.5em 0 0.5em; text-align: left; border: none;\">\n",
       "                BounceRates\n",
       "            </td>\n",
       "        </tr>\n",
       "    \n",
       "        <tr style=\"background-color: hsl(120, 100.00%, 98.33%); border: none;\">\n",
       "            <td style=\"padding: 0 1em 0 0.5em; text-align: right; border: none;\">\n",
       "                0.0039\n",
       "                \n",
       "                    &plusmn; 0.0022\n",
       "                \n",
       "            </td>\n",
       "            <td style=\"padding: 0 0.5em 0 0.5em; text-align: left; border: none;\">\n",
       "                ProductRelated_Duration\n",
       "            </td>\n",
       "        </tr>\n",
       "    \n",
       "        <tr style=\"background-color: hsl(120, 100.00%, 98.35%); border: none;\">\n",
       "            <td style=\"padding: 0 1em 0 0.5em; text-align: right; border: none;\">\n",
       "                0.0038\n",
       "                \n",
       "                    &plusmn; 0.0034\n",
       "                \n",
       "            </td>\n",
       "            <td style=\"padding: 0 0.5em 0 0.5em; text-align: left; border: none;\">\n",
       "                ProductRelated\n",
       "            </td>\n",
       "        </tr>\n",
       "    \n",
       "        <tr style=\"background-color: hsl(120, 100.00%, 98.82%); border: none;\">\n",
       "            <td style=\"padding: 0 1em 0 0.5em; text-align: right; border: none;\">\n",
       "                0.0024\n",
       "                \n",
       "                    &plusmn; 0.0019\n",
       "                \n",
       "            </td>\n",
       "            <td style=\"padding: 0 0.5em 0 0.5em; text-align: left; border: none;\">\n",
       "                Administrative\n",
       "            </td>\n",
       "        </tr>\n",
       "    \n",
       "        <tr style=\"background-color: hsl(120, 100.00%, 99.33%); border: none;\">\n",
       "            <td style=\"padding: 0 1em 0 0.5em; text-align: right; border: none;\">\n",
       "                0.0011\n",
       "                \n",
       "                    &plusmn; 0.0007\n",
       "                \n",
       "            </td>\n",
       "            <td style=\"padding: 0 0.5em 0 0.5em; text-align: left; border: none;\">\n",
       "                Region\n",
       "            </td>\n",
       "        </tr>\n",
       "    \n",
       "        <tr style=\"background-color: hsl(120, 100.00%, 99.40%); border: none;\">\n",
       "            <td style=\"padding: 0 1em 0 0.5em; text-align: right; border: none;\">\n",
       "                0.0009\n",
       "                \n",
       "                    &plusmn; 0.0012\n",
       "                \n",
       "            </td>\n",
       "            <td style=\"padding: 0 0.5em 0 0.5em; text-align: left; border: none;\">\n",
       "                TrafficType\n",
       "            </td>\n",
       "        </tr>\n",
       "    \n",
       "        <tr style=\"background-color: hsl(120, 100.00%, 99.44%); border: none;\">\n",
       "            <td style=\"padding: 0 1em 0 0.5em; text-align: right; border: none;\">\n",
       "                0.0008\n",
       "                \n",
       "                    &plusmn; 0.0005\n",
       "                \n",
       "            </td>\n",
       "            <td style=\"padding: 0 0.5em 0 0.5em; text-align: left; border: none;\">\n",
       "                SpecialDay\n",
       "            </td>\n",
       "        </tr>\n",
       "    \n",
       "        <tr style=\"background-color: hsl(120, 100.00%, 99.44%); border: none;\">\n",
       "            <td style=\"padding: 0 1em 0 0.5em; text-align: right; border: none;\">\n",
       "                0.0008\n",
       "                \n",
       "                    &plusmn; 0.0015\n",
       "                \n",
       "            </td>\n",
       "            <td style=\"padding: 0 0.5em 0 0.5em; text-align: left; border: none;\">\n",
       "                Informational\n",
       "            </td>\n",
       "        </tr>\n",
       "    \n",
       "        <tr style=\"background-color: hsl(120, 100.00%, 99.52%); border: none;\">\n",
       "            <td style=\"padding: 0 1em 0 0.5em; text-align: right; border: none;\">\n",
       "                0.0007\n",
       "                \n",
       "                    &plusmn; 0.0011\n",
       "                \n",
       "            </td>\n",
       "            <td style=\"padding: 0 0.5em 0 0.5em; text-align: left; border: none;\">\n",
       "                Month_Dec\n",
       "            </td>\n",
       "        </tr>\n",
       "    \n",
       "        <tr style=\"background-color: hsl(120, 100.00%, 99.56%); border: none;\">\n",
       "            <td style=\"padding: 0 1em 0 0.5em; text-align: right; border: none;\">\n",
       "                0.0006\n",
       "                \n",
       "                    &plusmn; 0.0019\n",
       "                \n",
       "            </td>\n",
       "            <td style=\"padding: 0 0.5em 0 0.5em; text-align: left; border: none;\">\n",
       "                VisitorType_Returning_Visitor\n",
       "            </td>\n",
       "        </tr>\n",
       "    \n",
       "        <tr style=\"background-color: hsl(120, 100.00%, 99.71%); border: none;\">\n",
       "            <td style=\"padding: 0 1em 0 0.5em; text-align: right; border: none;\">\n",
       "                0.0003\n",
       "                \n",
       "                    &plusmn; 0.0009\n",
       "                \n",
       "            </td>\n",
       "            <td style=\"padding: 0 0.5em 0 0.5em; text-align: left; border: none;\">\n",
       "                Month_Mar\n",
       "            </td>\n",
       "        </tr>\n",
       "    \n",
       "        <tr style=\"background-color: hsl(120, 100.00%, 99.82%); border: none;\">\n",
       "            <td style=\"padding: 0 1em 0 0.5em; text-align: right; border: none;\">\n",
       "                0.0002\n",
       "                \n",
       "                    &plusmn; 0.0004\n",
       "                \n",
       "            </td>\n",
       "            <td style=\"padding: 0 0.5em 0 0.5em; text-align: left; border: none;\">\n",
       "                Month_Sep\n",
       "            </td>\n",
       "        </tr>\n",
       "    \n",
       "        <tr style=\"background-color: hsl(120, 100.00%, 99.89%); border: none;\">\n",
       "            <td style=\"padding: 0 1em 0 0.5em; text-align: right; border: none;\">\n",
       "                0.0001\n",
       "                \n",
       "                    &plusmn; 0.0003\n",
       "                \n",
       "            </td>\n",
       "            <td style=\"padding: 0 0.5em 0 0.5em; text-align: left; border: none;\">\n",
       "                Month_June\n",
       "            </td>\n",
       "        </tr>\n",
       "    \n",
       "        <tr style=\"background-color: hsl(120, 100.00%, 100.00%); border: none;\">\n",
       "            <td style=\"padding: 0 1em 0 0.5em; text-align: right; border: none;\">\n",
       "                0.0000\n",
       "                \n",
       "                    &plusmn; 0.0015\n",
       "                \n",
       "            </td>\n",
       "            <td style=\"padding: 0 0.5em 0 0.5em; text-align: left; border: none;\">\n",
       "                Informational_Duration\n",
       "            </td>\n",
       "        </tr>\n",
       "    \n",
       "        <tr style=\"background-color: hsl(120, 100.00%, 100.00%); border: none;\">\n",
       "            <td style=\"padding: 0 1em 0 0.5em; text-align: right; border: none;\">\n",
       "                0.0000\n",
       "                \n",
       "                    &plusmn; 0.0007\n",
       "                \n",
       "            </td>\n",
       "            <td style=\"padding: 0 0.5em 0 0.5em; text-align: left; border: none;\">\n",
       "                Month_Jul\n",
       "            </td>\n",
       "        </tr>\n",
       "    \n",
       "        <tr style=\"background-color: hsl(0, 100.00%, 100.00%); border: none;\">\n",
       "            <td style=\"padding: 0 1em 0 0.5em; text-align: right; border: none;\">\n",
       "                0\n",
       "                \n",
       "                    &plusmn; 0.0000\n",
       "                \n",
       "            </td>\n",
       "            <td style=\"padding: 0 0.5em 0 0.5em; text-align: left; border: none;\">\n",
       "                VisitorType_Other\n",
       "            </td>\n",
       "        </tr>\n",
       "    \n",
       "        <tr style=\"background-color: hsl(0, 100.00%, 100.00%); border: none;\">\n",
       "            <td style=\"padding: 0 1em 0 0.5em; text-align: right; border: none;\">\n",
       "                0\n",
       "                \n",
       "                    &plusmn; 0.0000\n",
       "                \n",
       "            </td>\n",
       "            <td style=\"padding: 0 0.5em 0 0.5em; text-align: left; border: none;\">\n",
       "                Month_Feb\n",
       "            </td>\n",
       "        </tr>\n",
       "    \n",
       "    \n",
       "        \n",
       "            <tr style=\"background-color: hsl(0, 100.00%, 100.00%); border: none;\">\n",
       "                <td colspan=\"2\" style=\"padding: 0 0.5em 0 0.5em; text-align: center; border: none; white-space: nowrap;\">\n",
       "                    <i>&hellip; 6 more &hellip;</i>\n",
       "                </td>\n",
       "            </tr>\n",
       "        \n",
       "    \n",
       "    </tbody>\n",
       "</table>\n",
       "    \n",
       "\n",
       "    \n",
       "\n",
       "\n",
       "    \n",
       "\n",
       "    \n",
       "\n",
       "    \n",
       "\n",
       "    \n",
       "\n",
       "    \n",
       "\n",
       "    \n",
       "\n",
       "\n",
       "\n"
      ],
      "text/plain": [
       "<IPython.core.display.HTML object>"
      ]
     },
     "execution_count": 86,
     "metadata": {},
     "output_type": "execute_result"
    }
   ],
   "source": [
    "import eli5\n",
    "from eli5.sklearn import PermutationImportance\n",
    "\n",
    "perm = PermutationImportance(rfclf, random_state=1).fit(X_test, Y_test)\n",
    "eli5.show_weights(perm, feature_names = X_test.columns.tolist())"
   ]
  },
  {
   "cell_type": "markdown",
   "metadata": {},
   "source": [
    "Volvemos a ver los mismos resultados respecto a qué features son más importantes"
   ]
  },
  {
   "cell_type": "markdown",
   "metadata": {},
   "source": [
    "Desde esta aplicación de 'PermutationImportance' a dos de nuestros modelos 'PageValues' nos aparece como la principal feature de importancia al momento de definir quien realizará o no la compra. Frente a esto nuestro siguiente paso, de vista a generar insights y tranformar nuestro análisis en dinero para la empresa es analizar a fondo aquella columna y como se comporta. Esto solo se podría realizar mediante gráficas estadísticas muy detalladas y avanzadas, lo cual no es objetivo en el presente trabajo, pero sin duda es lo que marcaría la diferencia entre un caso de éxito o solo un modelo más de Machine Learning."
   ]
  },
  {
   "cell_type": "code",
   "execution_count": 87,
   "metadata": {},
   "outputs": [],
   "source": [
    "compradores_si = XY['Revenue'] == 1\n",
    "compradores = XY[compradores_si]"
   ]
  },
  {
   "cell_type": "code",
   "execution_count": 88,
   "metadata": {},
   "outputs": [],
   "source": [
    "compradores_no = XY['Revenue'] == 0\n",
    "no_compradores = XY[compradores_no]"
   ]
  },
  {
   "cell_type": "code",
   "execution_count": 89,
   "metadata": {},
   "outputs": [
    {
     "name": "stdout",
     "output_type": "stream",
     "text": [
      "3.393605870020964 2.1271325301204818\n",
      "119.4832438943118 74.07223504575087\n",
      "0.7861635220125787 0.4536867469879518\n",
      "57.61142665093659 30.370223074586825\n",
      "48.2101677148847 28.837204819277108\n",
      "1876.2096148889023 1074.758308145314\n",
      "0.005117152640461212 0.02477746447865028\n",
      "0.019555168256813433 0.046850570482890666\n",
      "27.264518194696002 1.9849492753283826\n",
      "0.02316561844863732 0.06858795180722893\n",
      "2.092767295597484 2.130120481927711\n",
      "2.45335429769392 2.339277108433735\n",
      "3.0822851153039834 3.1590361445783133\n",
      "4.021488469601677 4.081253012048193\n",
      "0.26153039832285113 0.22775903614457832\n",
      "1.0 0.0\n"
     ]
    }
   ],
   "source": [
    "for i,k in zip(compradores.mean(),no_compradores.mean()):\n",
    "    print (i,k)"
   ]
  },
  {
   "cell_type": "code",
   "execution_count": 90,
   "metadata": {},
   "outputs": [
    {
     "name": "stdout",
     "output_type": "stream",
     "text": [
      "Administrative                3.393606\n",
      "Administrative_Duration     119.483244\n",
      "Informational                 0.786164\n",
      "Informational_Duration       57.611427\n",
      "ProductRelated               48.210168\n",
      "ProductRelated_Duration    1876.209615\n",
      "BounceRates                   0.005117\n",
      "ExitRates                     0.019555\n",
      "PageValues                   27.264518\n",
      "SpecialDay                    0.023166\n",
      "OperatingSystems              2.092767\n",
      "Browser                       2.453354\n",
      "Region                        3.082285\n",
      "TrafficType                   4.021488\n",
      "Weekend                       0.261530\n",
      "Revenue                       1.000000\n",
      "dtype: float64\n",
      "Administrative                2.127133\n",
      "Administrative_Duration      74.072235\n",
      "Informational                 0.453687\n",
      "Informational_Duration       30.370223\n",
      "ProductRelated               28.837205\n",
      "ProductRelated_Duration    1074.758308\n",
      "BounceRates                   0.024777\n",
      "ExitRates                     0.046851\n",
      "PageValues                    1.984949\n",
      "SpecialDay                    0.068588\n",
      "OperatingSystems              2.130120\n",
      "Browser                       2.339277\n",
      "Region                        3.159036\n",
      "TrafficType                   4.081253\n",
      "Weekend                       0.227759\n",
      "Revenue                       0.000000\n",
      "dtype: float64\n"
     ]
    },
    {
     "data": {
      "text/plain": [
       "(None, None)"
      ]
     },
     "execution_count": 90,
     "metadata": {},
     "output_type": "execute_result"
    }
   ],
   "source": [
    "print(compradores.mean(), ), print(no_compradores.mean())"
   ]
  },
  {
   "cell_type": "markdown",
   "metadata": {},
   "source": [
    "Finalmente, como todo lo obtenido mediante el presente análisis, se puede corroborar las características principales de los compradores quienes en promedio gastan más tiempo visitando las paginas web, como también el número de veces que las visitan, al mismo tiempo que los promedios de BounceRate y ExitRates son menores para estos grupos.\n",
    "\n",
    "Todo lo anteriomente expuesto no cobraría un valor importante para la compañía si es que este modelo no se pone en producción en la nube para analizar en tiempo real los datos de los posibles compradores y de esta forma direccionar las estrategias de marketing a todos aquellas personas que se encuentran más propensas a realizar una compra."
   ]
  },
  {
   "cell_type": "code",
   "execution_count": 91,
   "metadata": {},
   "outputs": [
    {
     "data": {
      "image/png": "[encoded data removed]",
      "text/plain": [
       "<Figure size 1080x504 with 1 Axes>"
      ]
     },
     "metadata": {},
     "output_type": "display_data"
    }
   ],
   "source": [
    "final_plot= XY.drop(columns= ['OperatingSystems', 'Browser', 'Region', 'TrafficType'])\n",
    "final_plot.groupby('Revenue').mean().plot(kind='bar', figsize=(15,7))\n",
    "plt.title('Gasto medio por producto en cada clúster')\n",
    "plt.xlabel(u'Número de clúster')\n",
    "_ = plt.ylabel('Valor medio de gasto')"
   ]
  },
  {
   "cell_type": "code",
   "execution_count": null,
   "metadata": {},
   "outputs": [],
   "source": []
  }
 ],
 "metadata": {
  "kernelspec": {
   "display_name": "Python 3",
   "language": "python",
   "name": "python3"
  },
  "language_info": {
   "codemirror_mode": {
    "name": "ipython",
    "version": 3
   },
   "file_extension": ".py",
   "mimetype": "text/x-python",
   "name": "python",
   "nbconvert_exporter": "python",
   "pygments_lexer": "ipython3",
   "version": "3.8.3"
  }
 },
 "nbformat": 4,
 "nbformat_minor": 4
}
